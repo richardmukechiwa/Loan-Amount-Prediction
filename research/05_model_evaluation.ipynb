{
 "cells": [
  {
   "cell_type": "code",
   "execution_count": null,
   "metadata": {},
   "outputs": [],
   "source": []
  },
  {
   "cell_type": "code",
   "execution_count": 4,
   "metadata": {},
   "outputs": [],
   "source": [
    "import os"
   ]
  },
  {
   "cell_type": "code",
   "execution_count": 5,
   "metadata": {},
   "outputs": [
    {
     "data": {
      "text/plain": [
       "'c:\\\\Users\\\\RICH-FILES\\\\Desktop\\\\ml\\\\Loan-Amount-Prediction\\\\research'"
      ]
     },
     "execution_count": 5,
     "metadata": {},
     "output_type": "execute_result"
    }
   ],
   "source": [
    "%pwd"
   ]
  },
  {
   "cell_type": "code",
   "execution_count": 6,
   "metadata": {},
   "outputs": [],
   "source": [
    "os.chdir(\"../\")"
   ]
  },
  {
   "cell_type": "code",
   "execution_count": 7,
   "metadata": {},
   "outputs": [
    {
     "data": {
      "text/plain": [
       "'c:\\\\Users\\\\RICH-FILES\\\\Desktop\\\\ml\\\\Loan-Amount-Prediction'"
      ]
     },
     "execution_count": 7,
     "metadata": {},
     "output_type": "execute_result"
    }
   ],
   "source": [
    "%pwd"
   ]
  },
  {
   "cell_type": "code",
   "execution_count": 8,
   "metadata": {},
   "outputs": [],
   "source": [
    "project_path = \"C:/Users/RICH-FILES/Desktop/ml/Loan-Amount-Prediction\"\n",
    "\n",
    "os.chdir(project_path)"
   ]
  },
  {
   "cell_type": "code",
   "execution_count": null,
   "metadata": {},
   "outputs": [],
   "source": []
  },
  {
   "cell_type": "code",
   "execution_count": 9,
   "metadata": {},
   "outputs": [],
   "source": [
    "from dataclasses import dataclass\n",
    "from pathlib import Path\n",
    "\n",
    "@dataclass(frozen=True)\n",
    "class ModelEvaluationConfig:\n",
    "    root_dir: Path\n",
    "    test_data_path: Path\n",
    "    model_path: Path\n",
    "    all_params: dict\n",
    "    metric_file_name:Path\n",
    "    target_column: int\n",
    "    mlflow_uri:str\n"
   ]
  },
  {
   "cell_type": "code",
   "execution_count": 10,
   "metadata": {},
   "outputs": [],
   "source": [
    "from credit_risk.constants import *\n",
    "from credit_risk.utils.common import read_yaml, create_directories, save_json"
   ]
  },
  {
   "cell_type": "code",
   "execution_count": 11,
   "metadata": {},
   "outputs": [],
   "source": [
    "#creating a Configuration class\n",
    "class ConfigurationManager:\n",
    "    def __init__(\n",
    "        self,\n",
    "        config_filepath   = CONFIG_FILE_PATH,\n",
    "        params_filepath   = PARAMS_FILE_PATH,\n",
    "        schema_filepath   = SCHEMA_FILE_PATH):\n",
    "        \n",
    "        self.config = read_yaml(config_filepath)\n",
    "        self.params = read_yaml(params_filepath)                       \n",
    "        self.schema = read_yaml(schema_filepath)\n",
    "        \n",
    "        create_directories([self.config.artifacts_root])\n",
    "    \n",
    "    def get_model_evaluation_config(self)-> ModelEvaluationConfig:\n",
    "        config= self.config.model_evaluation\n",
    "        params= self.params.RandomForestRegressor\n",
    "        schema= self.schema.TARGET_COLUMN\n",
    "        \n",
    "        create_directories([config.root_dir])\n",
    "        \n",
    "        model_evaluation_config=ModelEvaluationConfig(\n",
    "            root_dir= config.root_dir,\n",
    "            test_data_path=config.test_data_path,\n",
    "            model_path=config.model_path,\n",
    "            all_params=params,\n",
    "            metric_file_name=config.metric_file_name,\n",
    "            target_column=schema.name,\n",
    "            mlflow_uri=\"https://dagshub.com/richardmukechiwa/Loan-Amount-Prediction\"\n",
    "            \n",
    "        )\n",
    "        \n",
    "        return model_evaluation_config\n",
    "        "
   ]
  },
  {
   "cell_type": "code",
   "execution_count": 12,
   "metadata": {},
   "outputs": [],
   "source": [
    "import os\n",
    "from sklearn.metrics import mean_squared_error, mean_absolute_error, r2_score\n",
    "from urllib.parse import urlparse\n",
    "import mlflow\n",
    "import mlflow.sklearn\n",
    "import numpy as np\n",
    "import joblib\n",
    "import pandas as pd\n"
   ]
  },
  {
   "cell_type": "code",
   "execution_count": 13,
   "metadata": {},
   "outputs": [],
   "source": [
    "class ModelEvaluation:\n",
    "    def __init__(self, config:ModelEvaluationConfig):\n",
    "        self.config=config\n",
    "        \n",
    "    def eval_metrics(self, actual, pred):\n",
    "        rmse=np.sqrt(mean_squared_error(actual, pred))\n",
    "        mae=mean_absolute_error(actual, pred)\n",
    "        r2= r2_score(actual, pred)\n",
    "        return rmse, mae, r2\n",
    "    \n",
    "    def log_into_mlflow(self):\n",
    "        \n",
    "        test_data = pd.read_csv(self.config.test_data_path)\n",
    "        model=joblib.load(self.config.model_path)\n",
    "        \n",
    "        \n",
    "        test_data.dropna(inplace=True)\n",
    "        \n",
    "        print(test_data.head())\n",
    "       \n",
    "        test_x=test_data.drop([self.config.target_column], axis=1)\n",
    "        test_y= test_data[[self.config.target_column]]\n",
    "        \n",
    "        mlflow.set_registry_uri(self.config.mlflow_uri)\n",
    "        tracking_url_type_store = urlparse(mlflow.get_tracking_uri()).scheme\n",
    "        \n",
    "        with mlflow.start_run():\n",
    "            \n",
    "            predicted_qualities=model.predict(test_x)\n",
    "            \n",
    "            (rmse, mae, r2) = self.eval_metrics(test_y, predicted_qualities)\n",
    "            \n",
    "            # saving metrics as local\n",
    "            scores= {\"rmse\":rmse, \"mae\": mae, \"r2\":r2}\n",
    "            save_json(path=Path(self.config.metric_file_name), data=scores)\n",
    "            \n",
    "            mlflow.log_params(self.config.all_params)\n",
    "            \n",
    "            mlflow.log_metric(\"rmse\", rmse)\n",
    "            mlflow.log_metric(\"r2\", r2)\n",
    "            mlflow.log_metric(\"mae\", mae)\n",
    "            \n",
    "            #Model registry does not work with file store\n",
    "            #if tracking_url_type_store != \"file\":\n",
    "                \n",
    "                # Register the model\n",
    "                \n",
    "                # There are other ways to use the Model Registry, which depends on the use case\n",
    "                \n",
    "                # please refer to the docs: https://mlflow.org/docs/latest/models-reqistry.html # api-workflow\n",
    "                # mlflow.sklearn.log_model(model, \"model\")\n",
    "            #else:\n",
    "                #mlflow.sklearn.log_model(model, \"model\")    \n",
    "                \n",
    "             \n",
    "            \n",
    "        \n",
    "        \n",
    "        "
   ]
  },
  {
   "cell_type": "code",
   "execution_count": 14,
   "metadata": {},
   "outputs": [
    {
     "name": "stdout",
     "output_type": "stream",
     "text": [
      "[2025-03-15 22:26:42,416: INFO: common: yaml file: config\\config.yaml loaded successfully]\n",
      "[2025-03-15 22:26:42,420: INFO: common: yaml file: params.yaml loaded successfully]\n",
      "[2025-03-15 22:26:42,426: INFO: common: yaml file: schema.yaml loaded successfully]\n",
      "[2025-03-15 22:26:42,429: INFO: common: created directory at: artifacts]\n",
      "[2025-03-15 22:26:42,431: INFO: common: created directory at: artifacts/model_evaluation]\n",
      "        Age    Income  Emp_length    Amount      Rate  Percent_income  \\\n",
      "0 -0.588313 -0.614287    0.292165  0.064952 -0.198029        1.777452   \n",
      "1 -0.115722 -0.033475   -1.156213  0.064952  1.314128       -0.095556   \n",
      "4  0.356869 -0.348082   -0.673420  0.539487  1.638161        1.121899   \n",
      "5 -0.430783 -0.049609   -0.673420  1.646733 -0.315299        1.402850   \n",
      "6 -0.273252 -0.629921   -0.673420 -0.567760 -0.315299        0.466346   \n",
      "\n",
      "   Home_MORTGAGE  Home_OTHER  Home_OWN  Home_RENT  Intent_DEBTCONSOLIDATION  \\\n",
      "0            0.0         0.0       1.0        0.0                       0.0   \n",
      "1            0.0         0.0       0.0        1.0                       0.0   \n",
      "4            0.0         0.0       0.0        1.0                       0.0   \n",
      "5            1.0         0.0       0.0        0.0                       0.0   \n",
      "6            0.0         0.0       0.0        1.0                       0.0   \n",
      "\n",
      "   Intent_EDUCATION  Intent_HOMEIMPROVEMENT  Intent_MEDICAL  Intent_PERSONAL  \\\n",
      "0               0.0                     1.0             0.0              0.0   \n",
      "1               0.0                     0.0             0.0              1.0   \n",
      "4               0.0                     0.0             1.0              0.0   \n",
      "5               0.0                     1.0             0.0              0.0   \n",
      "6               0.0                     0.0             0.0              0.0   \n",
      "\n",
      "   Intent_VENTURE  \n",
      "0             0.0  \n",
      "1             0.0  \n",
      "4             0.0  \n",
      "5             0.0  \n",
      "6             1.0  \n",
      "[2025-03-15 22:26:42,896: INFO: common: json file saved at: artifacts\\model_evaluation\\metrics.json]\n"
     ]
    },
    {
     "ename": "MlflowException",
     "evalue": "Invalid value \"max_depth'\" for parameter 'params[1].key' supplied: Names may only contain alphanumerics, underscores (_), dashes (-), periods (.), spaces ( ) and slashes (/).",
     "output_type": "error",
     "traceback": [
      "\u001b[1;31m---------------------------------------------------------------------------\u001b[0m",
      "\u001b[1;31mMlflowException\u001b[0m                           Traceback (most recent call last)",
      "Cell \u001b[1;32mIn[14], line 8\u001b[0m\n\u001b[0;32m      6\u001b[0m     model_evaluation_config\u001b[38;5;241m.\u001b[39mlog_into_mlflow()\n\u001b[0;32m      7\u001b[0m \u001b[38;5;28;01mexcept\u001b[39;00m \u001b[38;5;167;01mException\u001b[39;00m \u001b[38;5;28;01mas\u001b[39;00m e:\n\u001b[1;32m----> 8\u001b[0m     \u001b[38;5;28;01mraise\u001b[39;00m e    \n",
      "Cell \u001b[1;32mIn[14], line 6\u001b[0m\n\u001b[0;32m      4\u001b[0m     model_evaluation_config \u001b[38;5;241m=\u001b[39m config\u001b[38;5;241m.\u001b[39mget_model_evaluation_config()\n\u001b[0;32m      5\u001b[0m     model_evaluation_config\u001b[38;5;241m=\u001b[39mModelEvaluation(config\u001b[38;5;241m=\u001b[39mmodel_evaluation_config)\n\u001b[1;32m----> 6\u001b[0m     \u001b[43mmodel_evaluation_config\u001b[49m\u001b[38;5;241;43m.\u001b[39;49m\u001b[43mlog_into_mlflow\u001b[49m\u001b[43m(\u001b[49m\u001b[43m)\u001b[49m\n\u001b[0;32m      7\u001b[0m \u001b[38;5;28;01mexcept\u001b[39;00m \u001b[38;5;167;01mException\u001b[39;00m \u001b[38;5;28;01mas\u001b[39;00m e:\n\u001b[0;32m      8\u001b[0m     \u001b[38;5;28;01mraise\u001b[39;00m e    \n",
      "Cell \u001b[1;32mIn[13], line 37\u001b[0m, in \u001b[0;36mModelEvaluation.log_into_mlflow\u001b[1;34m(self)\u001b[0m\n\u001b[0;32m     34\u001b[0m scores\u001b[38;5;241m=\u001b[39m {\u001b[38;5;124m\"\u001b[39m\u001b[38;5;124mrmse\u001b[39m\u001b[38;5;124m\"\u001b[39m:rmse, \u001b[38;5;124m\"\u001b[39m\u001b[38;5;124mmae\u001b[39m\u001b[38;5;124m\"\u001b[39m: mae, \u001b[38;5;124m\"\u001b[39m\u001b[38;5;124mr2\u001b[39m\u001b[38;5;124m\"\u001b[39m:r2}\n\u001b[0;32m     35\u001b[0m save_json(path\u001b[38;5;241m=\u001b[39mPath(\u001b[38;5;28mself\u001b[39m\u001b[38;5;241m.\u001b[39mconfig\u001b[38;5;241m.\u001b[39mmetric_file_name), data\u001b[38;5;241m=\u001b[39mscores)\n\u001b[1;32m---> 37\u001b[0m \u001b[43mmlflow\u001b[49m\u001b[38;5;241;43m.\u001b[39;49m\u001b[43mlog_params\u001b[49m\u001b[43m(\u001b[49m\u001b[38;5;28;43mself\u001b[39;49m\u001b[38;5;241;43m.\u001b[39;49m\u001b[43mconfig\u001b[49m\u001b[38;5;241;43m.\u001b[39;49m\u001b[43mall_params\u001b[49m\u001b[43m)\u001b[49m\n\u001b[0;32m     39\u001b[0m mlflow\u001b[38;5;241m.\u001b[39mlog_metric(\u001b[38;5;124m\"\u001b[39m\u001b[38;5;124mrmse\u001b[39m\u001b[38;5;124m\"\u001b[39m, rmse)\n\u001b[0;32m     40\u001b[0m mlflow\u001b[38;5;241m.\u001b[39mlog_metric(\u001b[38;5;124m\"\u001b[39m\u001b[38;5;124mr2\u001b[39m\u001b[38;5;124m\"\u001b[39m, r2)\n",
      "File \u001b[1;32mc:\\Users\\RICH-FILES\\anacoda4\\envs\\ln\\lib\\site-packages\\mlflow\\tracking\\fluent.py:1030\u001b[0m, in \u001b[0;36mlog_params\u001b[1;34m(params, synchronous, run_id)\u001b[0m\n\u001b[0;32m   1028\u001b[0m params_arr \u001b[38;5;241m=\u001b[39m [Param(key, \u001b[38;5;28mstr\u001b[39m(value)) \u001b[38;5;28;01mfor\u001b[39;00m key, value \u001b[38;5;129;01min\u001b[39;00m params\u001b[38;5;241m.\u001b[39mitems()]\n\u001b[0;32m   1029\u001b[0m synchronous \u001b[38;5;241m=\u001b[39m synchronous \u001b[38;5;28;01mif\u001b[39;00m synchronous \u001b[38;5;129;01mis\u001b[39;00m \u001b[38;5;129;01mnot\u001b[39;00m \u001b[38;5;28;01mNone\u001b[39;00m \u001b[38;5;28;01melse\u001b[39;00m \u001b[38;5;129;01mnot\u001b[39;00m MLFLOW_ENABLE_ASYNC_LOGGING\u001b[38;5;241m.\u001b[39mget()\n\u001b[1;32m-> 1030\u001b[0m \u001b[38;5;28;01mreturn\u001b[39;00m \u001b[43mMlflowClient\u001b[49m\u001b[43m(\u001b[49m\u001b[43m)\u001b[49m\u001b[38;5;241;43m.\u001b[39;49m\u001b[43mlog_batch\u001b[49m\u001b[43m(\u001b[49m\n\u001b[0;32m   1031\u001b[0m \u001b[43m    \u001b[49m\u001b[43mrun_id\u001b[49m\u001b[38;5;241;43m=\u001b[39;49m\u001b[43mrun_id\u001b[49m\u001b[43m,\u001b[49m\u001b[43m \u001b[49m\u001b[43mmetrics\u001b[49m\u001b[38;5;241;43m=\u001b[39;49m\u001b[43m[\u001b[49m\u001b[43m]\u001b[49m\u001b[43m,\u001b[49m\u001b[43m \u001b[49m\u001b[43mparams\u001b[49m\u001b[38;5;241;43m=\u001b[39;49m\u001b[43mparams_arr\u001b[49m\u001b[43m,\u001b[49m\u001b[43m \u001b[49m\u001b[43mtags\u001b[49m\u001b[38;5;241;43m=\u001b[39;49m\u001b[43m[\u001b[49m\u001b[43m]\u001b[49m\u001b[43m,\u001b[49m\u001b[43m \u001b[49m\u001b[43msynchronous\u001b[49m\u001b[38;5;241;43m=\u001b[39;49m\u001b[43msynchronous\u001b[49m\n\u001b[0;32m   1032\u001b[0m \u001b[43m\u001b[49m\u001b[43m)\u001b[49m\n",
      "File \u001b[1;32mc:\\Users\\RICH-FILES\\anacoda4\\envs\\ln\\lib\\site-packages\\mlflow\\tracking\\client.py:1935\u001b[0m, in \u001b[0;36mMlflowClient.log_batch\u001b[1;34m(self, run_id, metrics, params, tags, synchronous)\u001b[0m\n\u001b[0;32m   1932\u001b[0m \u001b[38;5;66;03m# Stringify the values of the params\u001b[39;00m\n\u001b[0;32m   1933\u001b[0m params \u001b[38;5;241m=\u001b[39m [Param(key\u001b[38;5;241m=\u001b[39mparam\u001b[38;5;241m.\u001b[39mkey, value\u001b[38;5;241m=\u001b[39m\u001b[38;5;28mstr\u001b[39m(param\u001b[38;5;241m.\u001b[39mvalue)) \u001b[38;5;28;01mfor\u001b[39;00m param \u001b[38;5;129;01min\u001b[39;00m params]\n\u001b[1;32m-> 1935\u001b[0m \u001b[38;5;28;01mreturn\u001b[39;00m \u001b[38;5;28;43mself\u001b[39;49m\u001b[38;5;241;43m.\u001b[39;49m\u001b[43m_tracking_client\u001b[49m\u001b[38;5;241;43m.\u001b[39;49m\u001b[43mlog_batch\u001b[49m\u001b[43m(\u001b[49m\n\u001b[0;32m   1936\u001b[0m \u001b[43m    \u001b[49m\u001b[43mrun_id\u001b[49m\u001b[43m,\u001b[49m\u001b[43m \u001b[49m\u001b[43mmetrics\u001b[49m\u001b[43m,\u001b[49m\u001b[43m \u001b[49m\u001b[43mparams\u001b[49m\u001b[43m,\u001b[49m\u001b[43m \u001b[49m\u001b[43mtags\u001b[49m\u001b[43m,\u001b[49m\u001b[43m \u001b[49m\u001b[43msynchronous\u001b[49m\u001b[38;5;241;43m=\u001b[39;49m\u001b[43msynchronous\u001b[49m\n\u001b[0;32m   1937\u001b[0m \u001b[43m\u001b[49m\u001b[43m)\u001b[49m\n",
      "File \u001b[1;32mc:\\Users\\RICH-FILES\\anacoda4\\envs\\ln\\lib\\site-packages\\mlflow\\tracking\\_tracking_service\\client.py:831\u001b[0m, in \u001b[0;36mTrackingServiceClient.log_batch\u001b[1;34m(self, run_id, metrics, params, tags, synchronous)\u001b[0m\n\u001b[0;32m    828\u001b[0m metrics \u001b[38;5;241m=\u001b[39m metrics[metrics_batch_size:]\n\u001b[0;32m    830\u001b[0m \u001b[38;5;28;01mif\u001b[39;00m synchronous:\n\u001b[1;32m--> 831\u001b[0m     \u001b[38;5;28;43mself\u001b[39;49m\u001b[38;5;241;43m.\u001b[39;49m\u001b[43mstore\u001b[49m\u001b[38;5;241;43m.\u001b[39;49m\u001b[43mlog_batch\u001b[49m\u001b[43m(\u001b[49m\n\u001b[0;32m    832\u001b[0m \u001b[43m        \u001b[49m\u001b[43mrun_id\u001b[49m\u001b[38;5;241;43m=\u001b[39;49m\u001b[43mrun_id\u001b[49m\u001b[43m,\u001b[49m\u001b[43m \u001b[49m\u001b[43mmetrics\u001b[49m\u001b[38;5;241;43m=\u001b[39;49m\u001b[43mmetrics_batch\u001b[49m\u001b[43m,\u001b[49m\u001b[43m \u001b[49m\u001b[43mparams\u001b[49m\u001b[38;5;241;43m=\u001b[39;49m\u001b[43mparams_batch\u001b[49m\u001b[43m,\u001b[49m\u001b[43m \u001b[49m\u001b[43mtags\u001b[49m\u001b[38;5;241;43m=\u001b[39;49m\u001b[43mtags_batch\u001b[49m\n\u001b[0;32m    833\u001b[0m \u001b[43m    \u001b[49m\u001b[43m)\u001b[49m\n\u001b[0;32m    834\u001b[0m \u001b[38;5;28;01melse\u001b[39;00m:\n\u001b[0;32m    835\u001b[0m     run_operations_list\u001b[38;5;241m.\u001b[39mappend(\n\u001b[0;32m    836\u001b[0m         \u001b[38;5;28mself\u001b[39m\u001b[38;5;241m.\u001b[39mstore\u001b[38;5;241m.\u001b[39mlog_batch_async(\n\u001b[0;32m    837\u001b[0m             run_id\u001b[38;5;241m=\u001b[39mrun_id,\n\u001b[1;32m   (...)\u001b[0m\n\u001b[0;32m    841\u001b[0m         )\n\u001b[0;32m    842\u001b[0m     )\n",
      "File \u001b[1;32mc:\\Users\\RICH-FILES\\anacoda4\\envs\\ln\\lib\\site-packages\\mlflow\\store\\tracking\\file_store.py:1097\u001b[0m, in \u001b[0;36mFileStore.log_batch\u001b[1;34m(self, run_id, metrics, params, tags)\u001b[0m\n\u001b[0;32m   1095\u001b[0m \u001b[38;5;28;01mdef\u001b[39;00m\u001b[38;5;250m \u001b[39m\u001b[38;5;21mlog_batch\u001b[39m(\u001b[38;5;28mself\u001b[39m, run_id, metrics, params, tags):\n\u001b[0;32m   1096\u001b[0m     _validate_run_id(run_id)\n\u001b[1;32m-> 1097\u001b[0m     metrics, params, tags \u001b[38;5;241m=\u001b[39m \u001b[43m_validate_batch_log_data\u001b[49m\u001b[43m(\u001b[49m\u001b[43mmetrics\u001b[49m\u001b[43m,\u001b[49m\u001b[43m \u001b[49m\u001b[43mparams\u001b[49m\u001b[43m,\u001b[49m\u001b[43m \u001b[49m\u001b[43mtags\u001b[49m\u001b[43m)\u001b[49m\n\u001b[0;32m   1098\u001b[0m     _validate_batch_log_limits(metrics, params, tags)\n\u001b[0;32m   1099\u001b[0m     _validate_param_keys_unique(params)\n",
      "File \u001b[1;32mc:\\Users\\RICH-FILES\\anacoda4\\envs\\ln\\lib\\site-packages\\mlflow\\utils\\validation.py:417\u001b[0m, in \u001b[0;36m_validate_batch_log_data\u001b[1;34m(metrics, params, tags)\u001b[0m\n\u001b[0;32m    413\u001b[0m     path \u001b[38;5;241m=\u001b[39m \u001b[38;5;124mf\u001b[39m\u001b[38;5;124m\"\u001b[39m\u001b[38;5;124mmetrics[\u001b[39m\u001b[38;5;132;01m{\u001b[39;00mindex\u001b[38;5;132;01m}\u001b[39;00m\u001b[38;5;124m]\u001b[39m\u001b[38;5;124m\"\u001b[39m\n\u001b[0;32m    414\u001b[0m     _validate_metric(metric\u001b[38;5;241m.\u001b[39mkey, metric\u001b[38;5;241m.\u001b[39mvalue, metric\u001b[38;5;241m.\u001b[39mtimestamp, metric\u001b[38;5;241m.\u001b[39mstep, path\u001b[38;5;241m=\u001b[39mpath)\n\u001b[0;32m    415\u001b[0m \u001b[38;5;28;01mreturn\u001b[39;00m (\n\u001b[0;32m    416\u001b[0m     metrics,\n\u001b[1;32m--> 417\u001b[0m     [_validate_param(p\u001b[38;5;241m.\u001b[39mkey, p\u001b[38;5;241m.\u001b[39mvalue, path\u001b[38;5;241m=\u001b[39m\u001b[38;5;124mf\u001b[39m\u001b[38;5;124m\"\u001b[39m\u001b[38;5;124mparams[\u001b[39m\u001b[38;5;132;01m{\u001b[39;00midx\u001b[38;5;132;01m}\u001b[39;00m\u001b[38;5;124m]\u001b[39m\u001b[38;5;124m\"\u001b[39m) \u001b[38;5;28;01mfor\u001b[39;00m (idx, p) \u001b[38;5;129;01min\u001b[39;00m \u001b[38;5;28menumerate\u001b[39m(params)],\n\u001b[0;32m    418\u001b[0m     [_validate_tag(t\u001b[38;5;241m.\u001b[39mkey, t\u001b[38;5;241m.\u001b[39mvalue, path\u001b[38;5;241m=\u001b[39m\u001b[38;5;124mf\u001b[39m\u001b[38;5;124m\"\u001b[39m\u001b[38;5;124mtags[\u001b[39m\u001b[38;5;132;01m{\u001b[39;00midx\u001b[38;5;132;01m}\u001b[39;00m\u001b[38;5;124m]\u001b[39m\u001b[38;5;124m\"\u001b[39m) \u001b[38;5;28;01mfor\u001b[39;00m (idx, t) \u001b[38;5;129;01min\u001b[39;00m \u001b[38;5;28menumerate\u001b[39m(tags)],\n\u001b[0;32m    419\u001b[0m )\n",
      "File \u001b[1;32mc:\\Users\\RICH-FILES\\anacoda4\\envs\\ln\\lib\\site-packages\\mlflow\\utils\\validation.py:417\u001b[0m, in \u001b[0;36m<listcomp>\u001b[1;34m(.0)\u001b[0m\n\u001b[0;32m    413\u001b[0m     path \u001b[38;5;241m=\u001b[39m \u001b[38;5;124mf\u001b[39m\u001b[38;5;124m\"\u001b[39m\u001b[38;5;124mmetrics[\u001b[39m\u001b[38;5;132;01m{\u001b[39;00mindex\u001b[38;5;132;01m}\u001b[39;00m\u001b[38;5;124m]\u001b[39m\u001b[38;5;124m\"\u001b[39m\n\u001b[0;32m    414\u001b[0m     _validate_metric(metric\u001b[38;5;241m.\u001b[39mkey, metric\u001b[38;5;241m.\u001b[39mvalue, metric\u001b[38;5;241m.\u001b[39mtimestamp, metric\u001b[38;5;241m.\u001b[39mstep, path\u001b[38;5;241m=\u001b[39mpath)\n\u001b[0;32m    415\u001b[0m \u001b[38;5;28;01mreturn\u001b[39;00m (\n\u001b[0;32m    416\u001b[0m     metrics,\n\u001b[1;32m--> 417\u001b[0m     [\u001b[43m_validate_param\u001b[49m\u001b[43m(\u001b[49m\u001b[43mp\u001b[49m\u001b[38;5;241;43m.\u001b[39;49m\u001b[43mkey\u001b[49m\u001b[43m,\u001b[49m\u001b[43m \u001b[49m\u001b[43mp\u001b[49m\u001b[38;5;241;43m.\u001b[39;49m\u001b[43mvalue\u001b[49m\u001b[43m,\u001b[49m\u001b[43m \u001b[49m\u001b[43mpath\u001b[49m\u001b[38;5;241;43m=\u001b[39;49m\u001b[38;5;124;43mf\u001b[39;49m\u001b[38;5;124;43m\"\u001b[39;49m\u001b[38;5;124;43mparams[\u001b[39;49m\u001b[38;5;132;43;01m{\u001b[39;49;00m\u001b[43midx\u001b[49m\u001b[38;5;132;43;01m}\u001b[39;49;00m\u001b[38;5;124;43m]\u001b[39;49m\u001b[38;5;124;43m\"\u001b[39;49m\u001b[43m)\u001b[49m \u001b[38;5;28;01mfor\u001b[39;00m (idx, p) \u001b[38;5;129;01min\u001b[39;00m \u001b[38;5;28menumerate\u001b[39m(params)],\n\u001b[0;32m    418\u001b[0m     [_validate_tag(t\u001b[38;5;241m.\u001b[39mkey, t\u001b[38;5;241m.\u001b[39mvalue, path\u001b[38;5;241m=\u001b[39m\u001b[38;5;124mf\u001b[39m\u001b[38;5;124m\"\u001b[39m\u001b[38;5;124mtags[\u001b[39m\u001b[38;5;132;01m{\u001b[39;00midx\u001b[38;5;132;01m}\u001b[39;00m\u001b[38;5;124m]\u001b[39m\u001b[38;5;124m\"\u001b[39m) \u001b[38;5;28;01mfor\u001b[39;00m (idx, t) \u001b[38;5;129;01min\u001b[39;00m \u001b[38;5;28menumerate\u001b[39m(tags)],\n\u001b[0;32m    419\u001b[0m )\n",
      "File \u001b[1;32mc:\\Users\\RICH-FILES\\anacoda4\\envs\\ln\\lib\\site-packages\\mlflow\\utils\\validation.py:249\u001b[0m, in \u001b[0;36m_validate_param\u001b[1;34m(key, value, path)\u001b[0m\n\u001b[0;32m    244\u001b[0m \u001b[38;5;28;01mdef\u001b[39;00m\u001b[38;5;250m \u001b[39m\u001b[38;5;21m_validate_param\u001b[39m(key, value, path\u001b[38;5;241m=\u001b[39m\u001b[38;5;124m\"\u001b[39m\u001b[38;5;124m\"\u001b[39m):\n\u001b[0;32m    245\u001b[0m \u001b[38;5;250m    \u001b[39m\u001b[38;5;124;03m\"\"\"\u001b[39;00m\n\u001b[0;32m    246\u001b[0m \u001b[38;5;124;03m    Check that a param with the specified key & value is valid and raise an exception if it\u001b[39;00m\n\u001b[0;32m    247\u001b[0m \u001b[38;5;124;03m    isn't.\u001b[39;00m\n\u001b[0;32m    248\u001b[0m \u001b[38;5;124;03m    \"\"\"\u001b[39;00m\n\u001b[1;32m--> 249\u001b[0m     \u001b[43m_validate_param_name\u001b[49m\u001b[43m(\u001b[49m\u001b[43mkey\u001b[49m\u001b[43m,\u001b[49m\u001b[43m \u001b[49m\u001b[43mappend_to_json_path\u001b[49m\u001b[43m(\u001b[49m\u001b[43mpath\u001b[49m\u001b[43m,\u001b[49m\u001b[43m \u001b[49m\u001b[38;5;124;43m\"\u001b[39;49m\u001b[38;5;124;43mkey\u001b[39;49m\u001b[38;5;124;43m\"\u001b[39;49m\u001b[43m)\u001b[49m\u001b[43m)\u001b[49m\n\u001b[0;32m    250\u001b[0m     \u001b[38;5;28;01mreturn\u001b[39;00m Param(\n\u001b[0;32m    251\u001b[0m         _validate_length_limit(\u001b[38;5;124m\"\u001b[39m\u001b[38;5;124mParam key\u001b[39m\u001b[38;5;124m\"\u001b[39m, MAX_ENTITY_KEY_LENGTH, key),\n\u001b[0;32m    252\u001b[0m         _validate_length_limit(\u001b[38;5;124m\"\u001b[39m\u001b[38;5;124mParam value\u001b[39m\u001b[38;5;124m\"\u001b[39m, MAX_PARAM_VAL_LENGTH, value, truncate\u001b[38;5;241m=\u001b[39m\u001b[38;5;28;01mTrue\u001b[39;00m),\n\u001b[0;32m    253\u001b[0m     )\n",
      "File \u001b[1;32mc:\\Users\\RICH-FILES\\anacoda4\\envs\\ln\\lib\\site-packages\\mlflow\\utils\\validation.py:323\u001b[0m, in \u001b[0;36m_validate_param_name\u001b[1;34m(name, path)\u001b[0m\n\u001b[0;32m    318\u001b[0m     \u001b[38;5;28;01mraise\u001b[39;00m MlflowException(\n\u001b[0;32m    319\u001b[0m         invalid_value(path, \u001b[38;5;124m\"\u001b[39m\u001b[38;5;124m\"\u001b[39m, _MISSING_KEY_NAME_MESSAGE),\n\u001b[0;32m    320\u001b[0m         error_code\u001b[38;5;241m=\u001b[39mINVALID_PARAMETER_VALUE,\n\u001b[0;32m    321\u001b[0m     )\n\u001b[0;32m    322\u001b[0m \u001b[38;5;28;01mif\u001b[39;00m \u001b[38;5;129;01mnot\u001b[39;00m validate_param_and_metric_name(name):\n\u001b[1;32m--> 323\u001b[0m     \u001b[38;5;28;01mraise\u001b[39;00m MlflowException(\n\u001b[0;32m    324\u001b[0m         invalid_value(path, name, bad_character_message()),\n\u001b[0;32m    325\u001b[0m         INVALID_PARAMETER_VALUE,\n\u001b[0;32m    326\u001b[0m     )\n\u001b[0;32m    327\u001b[0m \u001b[38;5;28;01mif\u001b[39;00m path_not_unique(name):\n\u001b[0;32m    328\u001b[0m     \u001b[38;5;28;01mraise\u001b[39;00m MlflowException(\n\u001b[0;32m    329\u001b[0m         invalid_value(path, name, bad_path_message(name)),\n\u001b[0;32m    330\u001b[0m         INVALID_PARAMETER_VALUE,\n\u001b[0;32m    331\u001b[0m     )\n",
      "\u001b[1;31mMlflowException\u001b[0m: Invalid value \"max_depth'\" for parameter 'params[1].key' supplied: Names may only contain alphanumerics, underscores (_), dashes (-), periods (.), spaces ( ) and slashes (/)."
     ]
    }
   ],
   "source": [
    "#define pipeline\n",
    "try:\n",
    "    config = ConfigurationManager()\n",
    "    model_evaluation_config = config.get_model_evaluation_config()\n",
    "    model_evaluation_config=ModelEvaluation(config=model_evaluation_config)\n",
    "    model_evaluation_config.log_into_mlflow()\n",
    "except Exception as e:\n",
    "    raise e    "
   ]
  },
  {
   "cell_type": "markdown",
   "metadata": {},
   "source": [
    "\n"
   ]
  }
 ],
 "metadata": {
  "kernelspec": {
   "display_name": "ln",
   "language": "python",
   "name": "python3"
  },
  "language_info": {
   "codemirror_mode": {
    "name": "ipython",
    "version": 3
   },
   "file_extension": ".py",
   "mimetype": "text/x-python",
   "name": "python",
   "nbconvert_exporter": "python",
   "pygments_lexer": "ipython3",
   "version": "3.10.16"
  }
 },
 "nbformat": 4,
 "nbformat_minor": 2
}
