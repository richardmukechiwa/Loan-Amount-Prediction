{
 "cells": [
  {
   "cell_type": "code",
   "execution_count": null,
   "metadata": {},
   "outputs": [],
   "source": []
  },
  {
   "cell_type": "code",
   "execution_count": 1,
   "metadata": {},
   "outputs": [],
   "source": [
    "import os"
   ]
  },
  {
   "cell_type": "code",
   "execution_count": 2,
   "metadata": {},
   "outputs": [
    {
     "data": {
      "text/plain": [
       "'c:\\\\Users\\\\RICH-FILES\\\\Desktop\\\\ml\\\\Loan-Amount-Prediction\\\\research'"
      ]
     },
     "execution_count": 2,
     "metadata": {},
     "output_type": "execute_result"
    }
   ],
   "source": [
    "%pwd"
   ]
  },
  {
   "cell_type": "code",
   "execution_count": 3,
   "metadata": {},
   "outputs": [],
   "source": [
    "os.chdir(\"../\")"
   ]
  },
  {
   "cell_type": "code",
   "execution_count": 4,
   "metadata": {},
   "outputs": [
    {
     "data": {
      "text/plain": [
       "'c:\\\\Users\\\\RICH-FILES\\\\Desktop\\\\ml\\\\Loan-Amount-Prediction'"
      ]
     },
     "execution_count": 4,
     "metadata": {},
     "output_type": "execute_result"
    }
   ],
   "source": [
    "%pwd"
   ]
  },
  {
   "cell_type": "code",
   "execution_count": 5,
   "metadata": {},
   "outputs": [],
   "source": [
    "project_path = \"C:/Users/RICH-FILES/Desktop/ml/Loan-Amount-Prediction\"\n",
    "\n",
    "os.chdir(project_path)"
   ]
  },
  {
   "cell_type": "code",
   "execution_count": null,
   "metadata": {},
   "outputs": [],
   "source": []
  },
  {
   "cell_type": "code",
   "execution_count": 6,
   "metadata": {},
   "outputs": [],
   "source": [
    "from dataclasses import dataclass\n",
    "from pathlib import Path\n",
    "\n",
    "@dataclass(frozen=True)\n",
    "class ModelEvaluationConfig:\n",
    "    root_dir: Path\n",
    "    test_data_path: Path\n",
    "    model_path: Path\n",
    "    all_params: dict\n",
    "    metric_file_name:Path\n",
    "    target_column: int\n",
    "    mlflow_uri:str\n"
   ]
  },
  {
   "cell_type": "code",
   "execution_count": 7,
   "metadata": {},
   "outputs": [],
   "source": [
    "from credit_risk.constants import *\n",
    "from credit_risk.utils.common import read_yaml, create_directories, save_json"
   ]
  },
  {
   "cell_type": "code",
   "execution_count": 8,
   "metadata": {},
   "outputs": [],
   "source": [
    "#creating a Configuration class\n",
    "class ConfigurationManager:\n",
    "    def __init__(\n",
    "        self,\n",
    "        config_filepath   = CONFIG_FILE_PATH,\n",
    "        params_filepath   = PARAMS_FILE_PATH,\n",
    "        schema_filepath   = SCHEMA_FILE_PATH):\n",
    "        \n",
    "        self.config = read_yaml(config_filepath)\n",
    "        self.params = read_yaml(params_filepath)                       \n",
    "        self.schema = read_yaml(schema_filepath)\n",
    "        \n",
    "        create_directories([self.config.artifacts_root])\n",
    "    \n",
    "    def get_model_evaluation_config(self)-> ModelEvaluationConfig:\n",
    "        config= self.config.model_evaluation\n",
    "        params= self.params.RandomForestRegressor\n",
    "        schema= self.schema.TARGET_COLUMN\n",
    "        \n",
    "        create_directories([config.root_dir])\n",
    "        \n",
    "        model_evaluation_config=ModelEvaluationConfig(\n",
    "            root_dir= config.root_dir,\n",
    "            test_data_path=config.test_data_path,\n",
    "            model_path=config.model_path,\n",
    "            all_params=params,\n",
    "            metric_file_name=config.metric_file_name,\n",
    "            target_column=schema.name,\n",
    "            mlflow_uri=\"https://dagshub.com/richardmukechiwa/Loan-Amount-Prediction\"\n",
    "            \n",
    "        )\n",
    "        \n",
    "        return model_evaluation_config\n",
    "        "
   ]
  },
  {
   "cell_type": "code",
   "execution_count": 9,
   "metadata": {},
   "outputs": [],
   "source": [
    "import os\n",
    "from sklearn.metrics import mean_squared_error, mean_absolute_error, r2_score\n",
    "from urllib.parse import urlparse\n",
    "import mlflow\n",
    "import mlflow.sklearn\n",
    "import numpy as np\n",
    "import joblib\n",
    "import pandas as pd\n"
   ]
  },
  {
   "cell_type": "code",
   "execution_count": 10,
   "metadata": {},
   "outputs": [],
   "source": [
    "class ModelEvaluation:\n",
    "    def __init__(self, config:ModelEvaluationConfig):\n",
    "        self.config=config\n",
    "        \n",
    "    def eval_metrics(self, actual, pred):\n",
    "        rmse=np.sqrt(mean_squared_error(actual, pred))\n",
    "        mae=mean_absolute_error(actual, pred)\n",
    "        r2= r2_score(actual, pred)\n",
    "        return rmse, mae, r2\n",
    "    \n",
    "    def log_into_mlflow(self):\n",
    "        \n",
    "        test_data = pd.read_csv(self.config.test_data_path)\n",
    "        model=joblib.load(self.config.model_path)\n",
    "        \n",
    "        \n",
    "        test_data.dropna(inplace=True)\n",
    "        \n",
    "        print(test_data.head())\n",
    "       \n",
    "        test_x=test_data.drop([self.config.target_column], axis=1)\n",
    "        test_y= test_data[[self.config.target_column]]\n",
    "        \n",
    "        mlflow.set_registry_uri(self.config.mlflow_uri)\n",
    "        tracking_url_type_store = urlparse(mlflow.get_tracking_uri()).scheme\n",
    "        \n",
    "        with mlflow.start_run():\n",
    "            \n",
    "            predicted_qualities=model.predict(test_x)\n",
    "            \n",
    "            (rmse, mae, r2) = self.eval_metrics(test_y, predicted_qualities)\n",
    "            \n",
    "            # saving metrics as local\n",
    "            scores= {\"rmse\":rmse, \"mae\": mae, \"r2\":r2}\n",
    "            save_json(path=Path(self.config.metric_file_name), data=scores)\n",
    "            \n",
    "            mlflow.log_params(self.config.all_params)\n",
    "            \n",
    "            mlflow.log_metric(\"rmse\", rmse)\n",
    "            mlflow.log_metric(\"r2\", r2)\n",
    "            mlflow.log_metric(\"mae\", mae)\n",
    "            \n",
    "            #Model registry does not work with file store\n",
    "            #if tracking_url_type_store != \"file\":\n",
    "                \n",
    "                # Register the model\n",
    "                \n",
    "                # There are other ways to use the Model Registry, which depends on the use case\n",
    "                \n",
    "                # please refer to the docs: https://mlflow.org/docs/latest/models-reqistry.html # api-workflow\n",
    "                # mlflow.sklearn.log_model(model, \"model\")\n",
    "            #else:\n",
    "                #mlflow.sklearn.log_model(model, \"model\")    \n",
    "                \n",
    "             \n",
    "            \n",
    "        \n",
    "        \n",
    "        "
   ]
  },
  {
   "cell_type": "code",
   "execution_count": 11,
   "metadata": {},
   "outputs": [
    {
     "name": "stdout",
     "output_type": "stream",
     "text": [
      "[2025-03-17 21:18:06,658: INFO: common: yaml file: config\\config.yaml loaded successfully]\n",
      "[2025-03-17 21:18:06,662: INFO: common: yaml file: params.yaml loaded successfully]\n",
      "[2025-03-17 21:18:06,666: INFO: common: yaml file: schema.yaml loaded successfully]\n",
      "[2025-03-17 21:18:06,668: INFO: common: created directory at: artifacts]\n",
      "[2025-03-17 21:18:06,669: INFO: common: created directory at: artifacts/model_evaluation]\n",
      "        Age    Income  Emp_length    Amount      Rate  Percent_income  \\\n",
      "0 -0.588313 -0.614287    0.292165  0.064952 -0.198029        1.777452   \n",
      "1 -0.115722 -0.033475   -1.156213  0.064952  1.314128       -0.095556   \n",
      "4  0.356869 -0.348082   -0.673420  0.539487  1.638161        1.121899   \n",
      "5 -0.430783 -0.049609   -0.673420  1.646733 -0.315299        1.402850   \n",
      "6 -0.273252 -0.629921   -0.673420 -0.567760 -0.315299        0.466346   \n",
      "\n",
      "   Home_MORTGAGE  Home_OTHER  Home_OWN  Home_RENT  Intent_DEBTCONSOLIDATION  \\\n",
      "0            0.0         0.0       1.0        0.0                       0.0   \n",
      "1            0.0         0.0       0.0        1.0                       0.0   \n",
      "4            0.0         0.0       0.0        1.0                       0.0   \n",
      "5            1.0         0.0       0.0        0.0                       0.0   \n",
      "6            0.0         0.0       0.0        1.0                       0.0   \n",
      "\n",
      "   Intent_EDUCATION  Intent_HOMEIMPROVEMENT  Intent_MEDICAL  Intent_PERSONAL  \\\n",
      "0               0.0                     1.0             0.0              0.0   \n",
      "1               0.0                     0.0             0.0              1.0   \n",
      "4               0.0                     0.0             1.0              0.0   \n",
      "5               0.0                     1.0             0.0              0.0   \n",
      "6               0.0                     0.0             0.0              0.0   \n",
      "\n",
      "   Intent_VENTURE  \n",
      "0             0.0  \n",
      "1             0.0  \n",
      "4             0.0  \n",
      "5             0.0  \n",
      "6             1.0  \n",
      "[2025-03-17 21:18:07,609: INFO: common: json file saved at: artifacts\\model_evaluation\\metrics.json]\n"
     ]
    }
   ],
   "source": [
    "#define pipeline\n",
    "try:\n",
    "    config = ConfigurationManager()\n",
    "    model_evaluation_config = config.get_model_evaluation_config()\n",
    "    model_evaluation_config=ModelEvaluation(config=model_evaluation_config)\n",
    "    model_evaluation_config.log_into_mlflow()\n",
    "except Exception as e:\n",
    "    raise e    "
   ]
  }
 ],
 "metadata": {
  "kernelspec": {
   "display_name": "ln",
   "language": "python",
   "name": "python3"
  },
  "language_info": {
   "codemirror_mode": {
    "name": "ipython",
    "version": 3
   },
   "file_extension": ".py",
   "mimetype": "text/x-python",
   "name": "python",
   "nbconvert_exporter": "python",
   "pygments_lexer": "ipython3",
   "version": "3.10.16"
  }
 },
 "nbformat": 4,
 "nbformat_minor": 2
}
