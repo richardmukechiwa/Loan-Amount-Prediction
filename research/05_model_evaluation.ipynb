{
 "cells": [
  {
   "cell_type": "code",
   "execution_count": null,
   "metadata": {},
   "outputs": [],
   "source": []
  },
  {
   "cell_type": "code",
   "execution_count": 13,
   "metadata": {},
   "outputs": [],
   "source": [
    "import os"
   ]
  },
  {
   "cell_type": "code",
   "execution_count": 14,
   "metadata": {},
   "outputs": [
    {
     "data": {
      "text/plain": [
       "'C:\\\\Users\\\\RICH-FILES\\\\Desktop\\\\ml\\\\Loan-Amount-Prediction'"
      ]
     },
     "execution_count": 14,
     "metadata": {},
     "output_type": "execute_result"
    }
   ],
   "source": [
    "%pwd"
   ]
  },
  {
   "cell_type": "code",
   "execution_count": 15,
   "metadata": {},
   "outputs": [],
   "source": [
    "os.chdir(\"../\")"
   ]
  },
  {
   "cell_type": "code",
   "execution_count": 16,
   "metadata": {},
   "outputs": [
    {
     "data": {
      "text/plain": [
       "'C:\\\\Users\\\\RICH-FILES\\\\Desktop\\\\ml'"
      ]
     },
     "execution_count": 16,
     "metadata": {},
     "output_type": "execute_result"
    }
   ],
   "source": [
    "%pwd"
   ]
  },
  {
   "cell_type": "code",
   "execution_count": 17,
   "metadata": {},
   "outputs": [],
   "source": [
    "project_path = \"C:/Users/RICH-FILES/Desktop/ml/Loan-Amount-Prediction\"\n",
    "\n",
    "os.chdir(project_path)"
   ]
  },
  {
   "cell_type": "code",
   "execution_count": 18,
   "metadata": {},
   "outputs": [
    {
     "name": "stdout",
     "output_type": "stream",
     "text": [
      "[2025-03-06 23:09:33,427: INFO: _client: HTTP Request: GET https://dagshub.com/api/v1/repos/richardmukechiwa/Loan-Amount-Prediction \"HTTP/1.1 200 OK\"]\n"
     ]
    },
    {
     "data": {
      "text/html": [
       "<pre style=\"white-space:pre;overflow-x:auto;line-height:normal;font-family:Menlo,'DejaVu Sans Mono',consolas,'Courier New',monospace\">Initialized MLflow to track repo <span style=\"color: #008000; text-decoration-color: #008000\">\"richardmukechiwa/Loan-Amount-Prediction\"</span>\n",
       "</pre>\n"
      ],
      "text/plain": [
       "Initialized MLflow to track repo \u001b[32m\"richardmukechiwa/Loan-Amount-Prediction\"\u001b[0m\n"
      ]
     },
     "metadata": {},
     "output_type": "display_data"
    },
    {
     "name": "stdout",
     "output_type": "stream",
     "text": [
      "[2025-03-06 23:09:33,445: INFO: helpers: Initialized MLflow to track repo \"richardmukechiwa/Loan-Amount-Prediction\"]\n"
     ]
    },
    {
     "data": {
      "text/html": [
       "<pre style=\"white-space:pre;overflow-x:auto;line-height:normal;font-family:Menlo,'DejaVu Sans Mono',consolas,'Courier New',monospace\">Repository richardmukechiwa/Loan-Amount-Prediction initialized!\n",
       "</pre>\n"
      ],
      "text/plain": [
       "Repository richardmukechiwa/Loan-Amount-Prediction initialized!\n"
      ]
     },
     "metadata": {},
     "output_type": "display_data"
    },
    {
     "name": "stdout",
     "output_type": "stream",
     "text": [
      "[2025-03-06 23:09:33,449: INFO: helpers: Repository richardmukechiwa/Loan-Amount-Prediction initialized!]\n",
      "🏃 View run kindly-deer-457 at: https://dagshub.com/richardmukechiwa/Loan-Amount-Prediction.mlflow/#/experiments/0/runs/7bfcbd3470fc4098848c9c7e42f18f08\n",
      "🧪 View experiment at: https://dagshub.com/richardmukechiwa/Loan-Amount-Prediction.mlflow/#/experiments/0\n",
      "MLflow tracking initialized successfully!\n"
     ]
    }
   ],
   "source": [
    "import dagshub\n",
    "import mlflow\n",
    "\n",
    "dagshub.init(repo_owner='richardmukechiwa', repo_name='Loan-Amount-Prediction', mlflow=True)\n",
    "\n",
    "with mlflow.start_run():\n",
    "    mlflow.log_param('model_type', 'Linear Regression')\n",
    "    mlflow.log_metric('rmse', 0.25)\n",
    "\n",
    "print(\"MLflow tracking initialized successfully!\")"
   ]
  },
  {
   "cell_type": "code",
   "execution_count": 19,
   "metadata": {},
   "outputs": [],
   "source": [
    "from dataclasses import dataclass\n",
    "from pathlib import Path\n",
    "\n",
    "@dataclass(frozen=True)\n",
    "class ModelEvaluationConfig:\n",
    "    root_dir: Path\n",
    "    test_data_path: Path\n",
    "    model_path: Path\n",
    "    all_params: dict\n",
    "    metric_file_name:Path\n",
    "    target_column: str\n",
    "    mlflow_uri:str\n"
   ]
  },
  {
   "cell_type": "code",
   "execution_count": 20,
   "metadata": {},
   "outputs": [],
   "source": [
    "from credit_risk.constants import *\n",
    "from credit_risk.utils.common import read_yaml, create_directories, save_json"
   ]
  },
  {
   "cell_type": "code",
   "execution_count": 21,
   "metadata": {},
   "outputs": [],
   "source": [
    "#creating a Configuration class\n",
    "class ConfigurationManager:\n",
    "    def __init__(\n",
    "        self,\n",
    "        config_filepath   = CONFIG_FILE_PATH,\n",
    "        params_filepath   = PARAMS_FILE_PATH,\n",
    "        schema_filepath   = SCHEMA_FILE_PATH):\n",
    "        \n",
    "        self.config = read_yaml(config_filepath)\n",
    "        self.params = read_yaml(params_filepath)                       \n",
    "        self.schema = read_yaml(schema_filepath)\n",
    "        \n",
    "        create_directories([self.config.artifacts_root])\n",
    "    \n",
    "    def get_model_evaluation_config(self)-> ModelEvaluationConfig:\n",
    "        config= self.config.model_evaluation\n",
    "        params= self.params.LinearRegression\n",
    "        schema= self.schema.TARGET_COLUMN\n",
    "        \n",
    "        create_directories([config.root_dir])\n",
    "        \n",
    "        model_evaluation_config=ModelEvaluationConfig(\n",
    "            root_dir= config.root_dir,\n",
    "            test_data_path=config.test_data_path,\n",
    "            model_path=config.model_path,\n",
    "            all_params=params,\n",
    "            metric_file_name=config.metric_file_name,\n",
    "            target_column=schema.name,\n",
    "            mlflow_uri=\"https://dagshub.com/richardmukechiwa/Loan-Amount-Prediction\"\n",
    "            \n",
    "        )\n",
    "        \n",
    "        return model_evaluation_config\n",
    "        "
   ]
  },
  {
   "cell_type": "code",
   "execution_count": 25,
   "metadata": {},
   "outputs": [],
   "source": [
    "import os\n",
    "from sklearn.metrics import mean_squared_error, mean_absolute_error, r2_score\n",
    "from urllib.parse import urlparse\n",
    "import mlflow\n",
    "import mlflow.sklearn\n",
    "import numpy as np\n",
    "import joblib\n",
    "import pandas as pd\n"
   ]
  },
  {
   "cell_type": "code",
   "execution_count": null,
   "metadata": {},
   "outputs": [],
   "source": [
    "class ModelEvaluation:\n",
    "    def __init__(self, config:ModelEvaluationConfig):\n",
    "        self.config=config\n",
    "        \n",
    "    def eval_metrics(self, actual, pred):\n",
    "        rmse=np.sqrt(mean_squared_error(actual, pred))\n",
    "        mae=mean_absolute_error(actual, pred)\n",
    "        r2= r2_score(actual, pred)\n",
    "        return rmse, mae, r2\n",
    "    \n",
    "    def log_into_mlflow(self):\n",
    "        \n",
    "        test_data = pd.read_csv(self.config.test_data_path)\n",
    "        model=joblib.load(self.config.model_path)\n",
    "        \n",
    "        \n",
    "        test_data.dropna(inplace=True)\n",
    "       \n",
    "        test_x=test_data.drop([self.config.target_column], axis=1)\n",
    "        test_y= test_data[[self.config.target_column]]\n",
    "        \n",
    "        mlflow.set_registry_uri(self.config.mlflow_uri)\n",
    "        tracking_url_type_store = urlparse(mlflow.get_tracking_uri()).scheme\n",
    "        \n",
    "        with mlflow.start_run():\n",
    "            \n",
    "            predicted_qualities=model.predict(test_x)\n",
    "            \n",
    "            (rmse, mae, r2) = self.eval_metrics(test_y, predicted_qualities)\n",
    "            \n",
    "            # saving metrics as local\n",
    "            scores= {\"rmse\":rmse, \"mae\": mae, \"r2\":r2}\n",
    "            save_json(path=Path(self.config.metric_file_name), data=scores)\n",
    "            \n",
    "            mlflow.log_params(self.config.all_params)\n",
    "            \n",
    "            mlflow.log_metric(\"rmse\", rmse)\n",
    "            mlflow.log_metric(\"r2\", r2)\n",
    "            mlflow.log_metric(\"mae\", mae)\n",
    "            \n",
    "            #Model registry does not work with file store\n",
    "            if tracking_url_type_store != \"file\":\n",
    "                mlflow.sklearn.log_model(model, \"model\", registered_model_name=\"LinearRegression\")\n",
    "            else:\n",
    "                mlflow.sklearn.log_model(model, \"model\")    \n",
    "                \n",
    "             \n",
    "            \n",
    "        \n",
    "        \n",
    "        "
   ]
  },
  {
   "cell_type": "code",
   "execution_count": 24,
   "metadata": {},
   "outputs": [
    {
     "name": "stdout",
     "output_type": "stream",
     "text": [
      "[2025-03-06 23:09:35,373: INFO: common: yaml file: config\\config.yaml loaded successfully]\n",
      "[2025-03-06 23:09:35,379: INFO: common: yaml file: params.yaml loaded successfully]\n",
      "[2025-03-06 23:09:35,383: INFO: common: yaml file: schema.yaml loaded successfully]\n",
      "[2025-03-06 23:09:35,384: INFO: common: created directory at: artifacts]\n",
      "[2025-03-06 23:09:35,385: INFO: common: created directory at: artifacts/model_evaluation]\n",
      "[2025-03-06 23:09:35,771: INFO: common: json file saved at: artifacts\\model_evaluation\\metrics.json]\n"
     ]
    },
    {
     "name": "stderr",
     "output_type": "stream",
     "text": [
      "2025/03/06 23:09:41 WARNING mlflow.models.model: Model logged without a signature and input example. Please set `input_example` parameter when logging the model to auto infer the model signature.\n"
     ]
    },
    {
     "name": "stdout",
     "output_type": "stream",
     "text": [
      "🏃 View run learned-kit-224 at: https://dagshub.com/richardmukechiwa/Loan-Amount-Prediction.mlflow/#/experiments/0/runs/c00a3129e6ec4f9ab34a166bbae7573b\n",
      "🧪 View experiment at: https://dagshub.com/richardmukechiwa/Loan-Amount-Prediction.mlflow/#/experiments/0\n"
     ]
    },
    {
     "ename": "MlflowException",
     "evalue": "API request to endpoint /api/2.0/mlflow/registered-models/create failed with error code 404 != 200. Response body: '<!DOCTYPE html>\n<html lang=\"en-US\">\n  <head data-suburl=\"\">\n    <meta http-equiv=\"Content-Type\" content=\"text/html; charset=UTF-8\"/>\n    <meta http-equiv=\"X-UA-Compatible\" content=\"IE=edge\"/>\n    \n    \n      <meta name=\"viewport\" content=\"width=device-width, initial-scale=1\"/>\n    \n    <meta name=\"referrer\" content=\"no-referrer\"/>\n    <meta name=\"_csrf\" content=\"zC4Thaf4DLQYSO0T7DeCT2Yy2486MTc0MTI5NTMxMjY4NTEwMTI2MQ\"/>\n    <meta name=\"_suburl\" content=\"\"/>\n    <meta name=\"_appversion\" content=\"f9e04d423df929e9e228f5ef20ec6c0414502228\" />\n    <meta name=\"_bareRepo\" content=\"\"/>\n\n    \n    \n  <script>(function(w, d, s, l, i) {\n      w[l] = w[l] || [];\n      w[l].push({\n        'gtm.start':\n          new Date().getTime(), event: 'gtm.js'\n      });\n      var f = d.getElementsByTagName(s)[0],\n        j = d.createElement(s),\n        dl = l != 'dataLayer' ? '&l=' + l : '';\n      j.async = true;\n      j.src =\n        'https://www.googletagmanager.com/gtm.js?id=' + i + dl;\n      f.parentNode.insertBefore(j, f);\n    })(window, document, 'script', 'dataLayer', 'GTM-PGHTMDN');</script>\n\n    \n\n    \n    \n      \n    \n    \n  \n    <title>Page Not Found · DAGsHub</title>\n    <meta name=\"description\"\n          content=\"DagsHub is where people build machine learning projects. DagsHub helps AI teams build better models and manage their data effectively.\"/>\n  \n  \n  <meta property=\"og:url\" content=\"https://dagshub.com/\"/>\n  <meta property=\"og:type\" content=\"website\"/>\n  <meta property=\"og:site_name\" content=\"DagsHub\">\n  <meta property=\"og:title\" content=\"DagsHub: The Home for Machine Learning Collaboration\">\n  <meta property=\"og:description\"\n        content=\"DagsHub is where people build machine learning projects. DagsHub helps AI teams build better models and manage their data effectively.\">\n  <meta property=\"og:image\" content=\"https://dagshub.com/img/open_graph/dagshub-logo.jpg\"/>\n  <meta property=\"og:image:type\" content=\"image/png\">\n  <meta property=\"og:image:width\" content=\"1200\">\n  <meta property=\"og:image:height\" content=\"630\">\n  \n  <meta property=\"twitter:site\" content=\"@TheRealDagsHub\">\n  <meta property=\"twitter:creator\" content=\"@TheRealDagsHub\">\n  <meta property=\"twitter:card\" content=\"summary_large_image\">\n  <meta property=\"twitter:title\" content=\"DagsHub: The Home for Machine Learning Collaboration\">\n  <meta property=\"twitter:description\"\n        content=\"DagsHub is where people build machine learning projects. DagsHub helps AI teams build better models and manage their data effectively.\">\n  <meta property=\"twitter:image:src\" content=\"https://dagshub.com/img/open_graph/dagshub-logo.jpg\">\n  <meta property=\"twitter:image:width\" content=\"1200\">\n  <meta property=\"twitter:image:height\" content=\"630\">\n\n  <script type=\"application/ld+json\">\n    {\n        \"@context\": \"http://schema.org\",\n        \"@type\": \"WebSite\",\n        \"name\": \"DagsHub\",\n        \"url\": \"https://dagshub.com/\",\n        \"sameAs\": [\n            \"https://www.facebook.com/DagsHub/\",\n            \"https://twitter.com/TheRealDagsHub/\",\n            \"https://linkedin.com/company/dagshub/\"\n        ],\n        \"potentialAction\": {\n        \"@type\": \"SearchAction\",\n        \"description\": \"Search for data science projects on DagsHub.\",\n        \"target\": \"https://dagshub.com/explore/repos?q={search_term}\",\n        \"query-input\": \"required name=search_term\"\n        }\n    }\n  </script>\n\n\n    \n\n    <link rel=\"shortcut icon\" href=\"/img/favicon-black.svg\"/>\n\n    <script src=\"/js/jquery-3.6.0.min.js\"></script>\n    \n  <link rel=\"stylesheet\" href=\"https://cdnjs.cloudflare.com/ajax/libs/font-awesome/5.15.3/css/all.css\"\n        integrity=\"sha512-3icgkoIO5qm2D4bGSUkPqeQ96LS8+ukJC7Eqhl1H5B2OJMEnFqLmNDxXVmtV/eq5M65tTDkUYS/Q0P4gvZv+yA==\"\n        crossorigin=\"anonymous\"\n        referrerpolicy=\"no-referrer\" />\n\n\n    <link rel=\"stylesheet\" href=\"/assets/octicons-4.3.0/octicons.min.css\">\n\n    \n    \n\n    \n\n    \n\n    \n\n    \n\n    \n\n    \n\n    \n\n    \n    \n    <link rel=\"preload\" href=\"/css/themes/default/assets/fonts/brand-icons.woff2\" as=\"font\"\n          type=\"font/woff2\" crossorigin/>\n    <link rel=\"preload\" href=\"/css/themes/default/assets/fonts/icons.woff2\" as=\"font\" type=\"font/woff2\"\n          crossorigin/>\n    <link rel=\"preload\" href=\"/assets/fontawesome-5.15.3/webfonts/fa-solid-900.woff2\" as=\"font\"\n          type=\"font/woff2\" crossorigin/>\n\n    \n    <link rel=\"stylesheet\" href=\"/css/semantic-2.4.2.min.css\">\n\n    \n    <link rel=\"stylesheet\" href=\"/css/build/dagshub.css?v=f9e04d423df929e9e228f5ef20ec6c0414502228\">\n    <link rel=\"stylesheet\" href=\"/css/gogs.css?v=f9e04d423df929e9e228f5ef20ec6c0414502228\">\n\n    \n    \n    <link rel=\"preconnect\" href=\"https://fonts.googleapis.com\">\n    <link rel=\"preconnect\" href=\"https://fonts.gstatic.com\" crossorigin>\n    <link href=\"https://fonts.googleapis.com/css?family=Comfortaa|Lato:300,400,700,900|Jaldi|Open+Sans&display=swap\" rel=\"stylesheet\">\n    \n\n    <noscript>\n      <style>\n        .dropdown:hover > .menu {\n          display: block;\n        }\n\n        .ui.secondary.menu .dropdown.item > .menu {\n          margin-top: 0;\n        }\n      </style>\n    </noscript>\n    <script src=\"/js/semantic-2.4.2.min.js\"></script>\n\n    \n    \n      <link rel=\"stylesheet\" href=\"/css/build/static_dagshub.css?v=f9e04d423df929e9e228f5ef20ec6c0414502228\">\n      \n      <link href=\"https://fonts.googleapis.com/css2?family=Inter:wght@300;400;500;600;700;900&display=swap\" rel=\"stylesheet\">\n      <link href='https://fonts.googleapis.com/css?family=Fira Code:wght@300;400;500;600;700;900' rel='stylesheet'>\n      \n    \n\n    <meta name=\"theme-color\" content=\"#103037\">\n\n    \n  <script src=\"https://www.google.com/recaptcha/api.js\" async defer></script>\n\n\n\n    \n  </head>\n  <body>\n\n    \n\n\n\n  <noscript>\n    <iframe src=\"https://www.googletagmanager.com/ns.html?id=GTM-PGHTMDN\"\n            height=\"0\" width=\"0\" style=\"display:none;visibility:hidden\"></iframe>\n  </noscript>\n\n\n\n\n<div class=\"ui tiny modal\" id=\"contact-modal\">\n  <i class=\"close icon\"></i>\n  <div class=\"header\">\n    Contact us\n  </div>\n  <form id=\"contact-form\" class=\"ui form content\" action=\"contact_form\" method=\"post\">\n    <input type=\"hidden\" name=\"_csrf\" value=\"zC4Thaf4DLQYSO0T7DeCT2Yy2486MTc0MTI5NTMxMjY4NTEwMTI2MQ\">\n    <div class=\"required field\">\n      <label for=\"user_name\">Your email address</label>\n      <input name=\"email\" type=\"email\" value=\"\"\n             placeholder=\"tony@stark-industries.com\" required>\n    </div>\n    <div class=\"required field\">\n      <label for=\"subject\">Subject</label>\n      <input name=\"subject\" value=\"Hi DagsHub, let's talk\" placeholder=\"What would you like to talk about?\" required>\n    </div>\n    <div class=\"required field\">\n      <textarea class=\"autosize\" name=\"body\" rows=\"7\" ></textarea>\n    </div>\n    \n      <script type=\"text/javascript\">\n        var myRecaptchaListeners = {\n          callAllListeners: function(listeners) {\n            return () => listeners.forEach((f) => f());\n          },\n          successListeners: [],\n          expireListeners: [],\n        };\n        contactFormCaptchaCallback = myRecaptchaListeners.callAllListeners(myRecaptchaListeners.successListeners);\n        contactFormCaptchaExpired = myRecaptchaListeners.callAllListeners(myRecaptchaListeners.expireListeners);\n      </script>\n      <div class=\"g-recaptcha field\"\n           data-sitekey=\"6Lf0Z7gUAAAAAKCsW1V-PqN58BcBNAUxe-oIU3nw\"\n           data-callback=\"contactFormCaptchaCallback\"\n           data-expired-callback=\"contactFormCaptchaExpired\"></div>\n    \n    <input type=\"hidden\" name=\"page\"/>\n    <input type=\"hidden\" name=\"referring_page\"/>\n    <input type=\"hidden\" name=\"referrer\"/>\n    <button class=\"ui positive center aligned labeled icon button\" id=\"send-contact-request-btn\">\n      Send\n      <i class=\"checkmark icon\"></i>\n    </button>\n    \n      <script type=\"text/javascript\">\n        (function() {\n          const submitBtn = document.getElementById('send-contact-request-btn');\n          onExpire = () => submitBtn.style.display = 'none';\n          onExpire();\n          myRecaptchaListeners.successListeners.push(() => {\n            submitBtn.style.display = 'block';\n          });\n          myRecaptchaListeners.expireListeners.push(onExpire);\n        })();\n      </script>\n    \n    <div class=\"ui hidden dimmer inverted\">\n      <div class=\"ui loader\"></div>\n      <div class=\"ui hidden positive message\">\n        <p>Thank you! We'll be in touch ASAP.</p>\n      </div>\n      <div class=\"ui hidden negative message\">\n        <p>Something went wrong, please try again or contact us directly at <a\n                  href=\"mailto:contact@dagshub.com\">contact@dagshub.com</a></p>\n      </div>\n    </div>\n  </form>\n  <script>\n    (function() {\n      const $contactModal = $('#contact-modal');\n      const $contactForm = $('#contact-form');\n      const $dimmer = $contactForm.find('.dimmer');\n      const $loader = $dimmer.find('.loader');\n      const $okMsg = $dimmer.find('.positive');\n      const $errorMsg = $dimmer.find('.negative');\n\n      $contactForm.find('input[name=page]').val(document.URL);\n      $contactForm.find('input[name=referring_page]').val(new URL(document.URL).searchParams.get('referring_page'));\n      $contactForm.find('input[name=referrer]').val(document.referrer);\n\n      \n      $contactModal.modal({\n        onShow: () => {\n          $dimmer.dimmer('hide');\n          $loader.transition('fade in', 0);\n          $okMsg.transition('fade out', 0);\n          $errorMsg.transition('fade out', 0);\n        }\n      });\n\n      $contactForm.submit((e) => {\n        e.preventDefault();\n\n        $dimmer.dimmer('show');\n\n        function hideModal() {\n          setTimeout(() => {\n            $contactModal.modal('hide');\n          }, 3000);\n        }\n\n        \n        const loaderToMessage = function(targetMsg = $okMsg, afterMsg = hideModal) {\n          $loader.transition('fade out');\n          targetMsg.transition('fade in');\n          if (afterMsg) afterMsg();\n        };\n\n        $.ajax({\n          url: $contactForm.attr('action'),\n          method: 'post',\n          data: $contactForm.serialize(),\n          success: () => loaderToMessage(),\n          error: e => {\n            console.error(e);\n            \n            loaderToMessage($errorMsg, null);\n          }\n        });\n        \n        \n        \n        \n      });\n    })();\n  </script>\n  <div class=\"ui secondary segment\">\n    Or if you want, you can join our community at <a href=\"https://discord.com/invite/9gU36Y6\"\n                                                     class=\"ui basic discord icon\"><i class=\"discord grey icon big\"></i></a>\n  </div>\n</div>\n\n\n\n    \n      \n\n<div class=\"mobile dagshub-navbar\">\n    <div class=\"line-divider\"></div>\n\n\n\n\n  \n    \n      <div class=\"primary center button\" style=\"margin-bottom: 10px;\">\n        <a  id=\"sign-up-navbar-mobile\" data-analytics-event=\"Navbar_Register_Clicked\"\n            href=\"/user/sign_up?redirect_to=%2frichardmukechiwa%2fLoan-Amount-Prediction%2fapi%2f2.0%2fmlflow%2fregistered-models%2fcreate\n\n\">\n          Register\n        </a>\n      </div>\n    \n      <div class=\"secondary center button\">\n        <a id=\"sign-in-navbar-mobile\" data-analytics-event=\"Navbar_Login_Clicked\"\n           href=\"/user/login?redirect_to=%2frichardmukechiwa%2fLoan-Amount-Prediction%2fapi%2f2.0%2fmlflow%2fregistered-models%2fcreate\n\n\">\n          Login\n        </a>\n      </div>\n  \n  <div class=\"line-divider\"></div>\n  \n  \n    <div class=\"subtitle\">Resources</div>\n    <a class=\"navbar-item\"\n       href=\"/docs\" onclick=\"trackAnalyticsEvent('Resources_Docs_Clicked')\">Docs</a>\n    <a class=\"navbar-item\" href=\"/blog\" onclick=\"trackAnalyticsEvent('Resources_Blog_Clicked')\">Blog</a>\n    <a class=\"navbar-item\" data-analytics-event=\"Resources_Datasets_Clicked\" href=\"/datasets\">Datasets</a>\n    <a class=\"navbar-item\" data-analytics-event=\"Resources_Glossary_Clicked\" href=\"/glossary\">Glossary</a>\n    <a class=\"navbar-item\" href=\"/blog/tag/case-study\" onclick=\"trackAnalyticsEvent('Resources_Case_Studies_Clicked')\">Case Studies</a>\n    <a class=\"navbar-item\" href=\"/blog/tag/tutorials\" onclick=\"trackAnalyticsEvent('Resources_Tutorials_Clicked')\">Tutorials &amp; Webinars</a>\n    \n      <div class=\"line-divider\"></div>\n      <div class=\"subtitle\">Product</div>\n      <a class=\"navbar-item\" tabindex=\"0\" href=\"/data-engine\">Data Engine</a>\n      <a class=\"navbar-item\" tabindex=\"0\" href=\"/use-cases/llm\">LLMs</a>\n      <a class=\"navbar-item\" tabindex=\"0\" href=\"/product\">Platform</a>\n      <a class=\"navbar-item\" tabindex=\"0\" href=\"/enterprise\">Enterprise</a>\n    \n    <div class=\"line-divider\"></div>\n    <a class=\"navbar-item\" href=\"/pricing\">Pricing</a>\n  \n  <a class=\"navbar-item\" href=\"/explore/repos\">Explore</a>\n  <div class=\"line-divider\"></div>\n  <a class=\"navbar-item\" href=\"https://discord.com/invite/9gU36Y6\" onclick=\"trackAnalyticsEvent('DiscordIcon_Clicked')\">\n    <img src=\"/assets/social_icons/discord.svg\" aria-label=\"Connect to our Discord channel\">\n    <span>Connect to our Discord channel</span>\n  </a>\n    \n</div>\n<div class=\"pusher\">\n<div class=\"ui full height\">\n  <noscript>This website works better with JavaScript</noscript>\n  \n    <div class=\" navbar-container\">\n      <div id=\"menu-container\" class=\"dagshub-navbar \">\n        <div class=\"left-menu\">\n          <div class=\"fixed-content\">\n            <a href=\"https://dagshub.com/\" tabindex=\"0\">\n              \n              <img width=\"34\" height=\"30\" alt=\"DagsHub navbar logo\" aria-label=\"DagsHub Home\" class=\"navbar-logo\"\n                   src=\"/img/favicon.svg\">\n              \n            </a>\n            <form class=\"search-bar-container\" action=\"/explore/repos\">\n                <input class=\"search-bar\" name=\"q\" value=\"\" aria-label=\"Search public projects\"\n                       placeholder=\"Search public repositories...\" tabindex=\"0\" autocomplete=\"off\">\n            </form>\n          </div>\n          \n          \n            <div class=\"dropdown navbar-item\" tabindex=\"0\">\n              Resources &nbsp; <img class=\"flip\" src=\"/assets/chevron-icon.svg\">\n                <div class=\"submenu\">\n                  <a href=\"/docs\" tabindex=\"0\" onclick=\"trackAnalyticsEvent('Resources_Docs_Clicked')\">Docs</a>\n                  <a href=\"/blog\" tabindex=\"0\" onclick=\"trackAnalyticsEvent('Resources_Blog_Clicked')\">Blog</a>\n                  <a href=\"/datasets\" tabindex=\"0\" data-analytics-event=\"Resources_Datasets_Clicked\">Datasets</a>\n                  <a href=\"/glossary\" tabindex=\"0\" data-analytics-event=\"Resources_Glossary_Clicked\">Glossary</a>\n                  <a href=\"/blog/tag/case-study\" tabindex=\"0\" onclick=\"trackAnalyticsEvent('Resources_Case_Studies_Clicked')\">Case Studies</a>\n                  <a href=\"/blog/tag/tutorials\" tabindex=\"0\" onclick=\"trackAnalyticsEvent('Resources_Tutorials_Clicked')\">Tutorials &amp; Webinars</a>\n                </div>\n            </div>\n          \n          <a class=\"navbar-item\" tabindex=\"0\"\n             href=\"/explore/repos\" onclick=\"trackAnalyticsEvent('ExploreTab_Clicked')\">Explore</a>\n          \n            <a class=\"navbar-item\" tabindex=\"0\" href=\"/pricing\">Pricing</a>\n          \n          <div class=\"dropdown navbar-item\" tabindex=\"0\">\n            Product &nbsp; <img class=\"flip\" src=\"/assets/chevron-icon.svg\">\n            <div class=\"submenu\">\n              <a class=\"navbar-item\" tabindex=\"0\" href=\"/data-engine\">Data Engine</a>\n              <a class=\"navbar-item\" tabindex=\"0\" href=\"/use-cases/llm\">LLMs</a>\n              <a class=\"navbar-item\" tabindex=\"0\" href=\"/product\">Platform</a>\n              <a class=\"navbar-item\" tabindex=\"0\" href=\"/enterprise\">Enterprise</a>\n            </div>\n          </div>\n          \n        \n        </div>\n        \n          <input type=\"checkbox\" id=\"menu-toggle\" style=\"display: none;\" tabindex=\"0\">\n          <label id=\"menu-toggle-label\" for=\"menu-toggle\"><img src=\"/assets/menu-open.svg\"></label>\n          <div id=\"menu-close-label\" style=\"display: none;\"><img src=\"/assets/x.svg\"></div>\n          <div id=\"menu-open-label\" style=\"display: none;\"><img src=\"/assets/menu-open.svg\"></div>\n        \n        <div class=\"right-menu\">\n            <a aria-label=\"join our discord\"\n               class=\"navbar-icon dagshub-tooltip\"\n               tabindex=\"0\"\n               href=\"https://discord.com/invite/9gU36Y6\" onclick=\"trackAnalyticsEvent('DiscordIcon_Clicked')\">\n              <img src=\"/assets/social_icons/discord.svg\" aria-label=\"Connect to our Discord channel\">\n              <span>Connect to Dagshub Discord channel</span>\n            </a>\n            \n              \n                <div class=\"primary button\">\n                  <a id=\"sign-up-navbar\" data-analytics-event=\"Navbar_Register_Clicked\"\n                     href=\"/user/sign_up?redirect_to=%2frichardmukechiwa%2fLoan-Amount-Prediction%2fapi%2f2.0%2fmlflow%2fregistered-models%2fcreate\n\n\">\n                    Register\n                  </a>\n                </div>\n              \n              <a id=\"sign-in-navbar\" class=\"secondary button\"\n                 data-analytics-event=\"Navbar_Login_Clicked\"\n                 href=\"/user/login?redirect_to=%2frichardmukechiwa%2fLoan-Amount-Prediction%2fapi%2f2.0%2fmlflow%2fregistered-models%2fcreate\n\n\">\n                Login\n              </a>\n            \n        </div>\n      </div>\n    </div>\n  \n\n    \n\n<div class=\"ui container center\">\n  <p style=\"margin-top: 100px\"><img src=\"/img/404.png\" alt=\"404\"/></p>\n  <div class=\"ui divider\"></div>\n  <br>\n  \n  <p>\n    If you think this is an error, please report it on our\n    <strong>\n      <a href=\"https://discord.com/invite/9gU36Y6\">Discord support channel <i class=\"discord icon\"></i></a>\n    </strong>\n  </p>\n    Or, contact us at <a href=\"mailto:support@dagshub.com\">support@dagshub.com</a>.</p>\n  <br><br>\n  Provide this support ID: <strong>5bbcf695-6f4f-44d4-a311-13fd6d64f32c</strong>\n</div>\n\n\n</div>\n<footer>\n  <div class=\"ui footer\">\n      <div class=\"dagshub-footer\">\n          <a href=\"https://dagshub.com/\">\n            <img alt=\"footer DagsHub logo\" id=\"footer-logo\" class=\"ui centered image\" aria-label=\"Dagshub home\"\n                           src=\"/img/footerlogo.svg\">\n          </a>\n          <div id=\"footer-social\" class=\"\">\n            <a aria-label=\"DagsHub on Twitter\" class=\"icon-link\"\n               rel=\"nofollow\" target=\"_blank\"\n               href=\"https://twitter.com/TheRealDAGsHub\">\n              <i class=\"twitter large icon\"></i>\n            </a>\n            <a aria-label=\"DagsHub on YouTube\" class=\"icon-link\"\n               rel=\"nofollow\" target=\"_blank\"\n               href=\"https://youtube.com/c/dagshub\">\n              <i class=\"youtube large icon\"></i>\n            </a>\n            <a aria-label=\"DagsHub on LinkedIn\" class=\"icon-link\"\n               rel=\"nofollow\" target=\"_blank\"\n               href=\"https://www.linkedin.com/company/dagshub\">\n              <i class=\"linkedin large icon\"></i>\n            </a>\n            <a aria-label=\"join our Discord\" class=\"icon-link\"\n               rel=\"nofollow\" target=\"_blank\"\n               href=\"https://discord.com/invite/9gU36Y6\">\n              \n              <svg width=\"24\" height=\"19\" viewBox=\"0 0 24 19\" fill=\"none\" xmlns=\"http://www.w3.org/2000/svg\">\n                <path d=\"M20.2415 2.18566C18.7257 1.49015 17.1003 0.977731 15.4007 0.684245C15.3698 0.678581 15.3389 0.692736 15.3229 0.721047C15.1139 1.09286 14.8823 1.57791 14.7202 1.95916C12.8922 1.6855 11.0736 1.6855 9.28318 1.95916C9.12099 1.56944 8.88103 1.09286 8.67104 0.721047C8.6551 0.693681 8.62418 0.679525 8.59323 0.684245C6.89465 0.976793 5.26918 1.48921 3.75245 2.18566C3.73932 2.19133 3.72807 2.20077 3.7206 2.21303C0.637438 6.8192 -0.207169 11.3122 0.207167 15.7494C0.209041 15.7711 0.221228 15.7919 0.238101 15.8051C2.27228 17.2989 4.24273 18.2058 6.17659 18.807C6.20754 18.8164 6.24034 18.8051 6.26003 18.7796C6.71749 18.1549 7.12527 17.4962 7.4749 16.8035C7.49553 16.7629 7.47584 16.7148 7.43366 16.6988C6.78686 16.4534 6.17097 16.1542 5.57852 15.8145C5.53166 15.7872 5.52791 15.7201 5.57102 15.688C5.69569 15.5946 5.8204 15.4974 5.93944 15.3993C5.96098 15.3814 5.99099 15.3776 6.01631 15.3889C9.90842 17.1659 14.1221 17.1659 17.9683 15.3889C17.9936 15.3766 18.0236 15.3804 18.0461 15.3983C18.1652 15.4965 18.2898 15.5946 18.4154 15.688C18.4585 15.7201 18.4557 15.7872 18.4089 15.8145C17.8164 16.1608 17.2005 16.4534 16.5528 16.6978C16.5106 16.7139 16.4919 16.7629 16.5125 16.8035C16.8696 17.4952 17.2774 18.1539 17.7264 18.7787C17.7452 18.8051 17.7789 18.8164 17.8099 18.807C19.7531 18.2058 21.7235 17.2989 23.7577 15.8051C23.7755 15.7919 23.7868 15.7721 23.7887 15.7503C24.2845 10.6204 22.9581 6.16429 20.2724 2.21397C20.2659 2.20077 20.2546 2.19133 20.2415 2.18566ZM8.05612 13.0476C6.88433 13.0476 5.91881 11.9718 5.91881 10.6506C5.91881 9.32943 6.86561 8.25364 8.05612 8.25364C9.25598 8.25364 10.2122 9.33887 10.1934 10.6506C10.1934 11.9718 9.2466 13.0476 8.05612 13.0476ZM15.9585 13.0476C14.7867 13.0476 13.8212 11.9718 13.8212 10.6506C13.8212 9.32943 14.768 8.25364 15.9585 8.25364C17.1584 8.25364 18.1145 9.33887 18.0958 10.6506C18.0958 11.9718 17.1584 13.0476 15.9585 13.0476Z\"/>\n              </svg>\n            </a>\n          </div>\n        <div class=\"links\">\n          <a class=\"footer-item\" rel=\"noopener noreferrer\" href=\"/about\">Our Story</a>\n          <a class=\"footer-item\" rel=\"noopener noreferrer\" href=\"/careers\">Careers</a>\n              \n          <a id=\"merch-store\" class=\"footer-item\" rel=\"noopener noreferrer\"\n             href=\"https://teespring.com/stores/dagshub\">Merch</a>\n          <a class=\"footer-item\" id=\"contact-us-footer\" href=\"javascript:\">Contact Us</a>\n          <script>\n            (function() {\n              const $contactModal = $('#contact-modal');\n              const $contactForm = $contactModal.find('#contact-form');\n              $contactModal.modal('attach events', '#contact-us-footer', 'show');\n              $('#contact-us-footer').on('click', () => {\n                $contactForm.attr('action', 'contact_form');\n              });\n            })();\n          </script>\n              \n                <a class=\"footer-item\" rel=\"noopener noreferrer\" href=\"/enterprise\">Enterprise</a>\n                <a class=\"footer-item\" rel=\"noopener noreferrer\" href=\"/pricing\">Pricing</a>\n              \n        </div>\n          <h2>The home for data science collaboration</h2>\n          <div class=\"legal\">\n            <p>© Copyright Dagshub 2025</p>\n            <div class=\"\">\n              <a class=\"footer-item\" rel=\"noopener noreferrer\" href=\"/terms\">Terms of Service</a>\n              <a class=\"footer-item\" rel=\"noopener noreferrer\" href=\"/privacy\">Privacy Policy</a>\n            </div>\n          </div>\n\n        </div>\n\n      \n      \n      \n      \n      \n      \n      \n      \n      \n      \n      \n      \n\n\n  </div>\n</footer>\n\n\n</div>\n</body>\n\n\n\n\n\n\n\n\n\n\n\n<script src=\"/js/libs/emojify-1.1.0.min.js\"></script>\n<script src=\"/js/libs/clipboard-1.5.9.min.js\"></script>\n\n\n\n<script src=\"/js/gogs.js?v=f9e04d423df929e9e228f5ef20ec6c0414502228\"></script>\n<script src=\"/js/dagshub.js?v=f9e04d423df929e9e228f5ef20ec6c0414502228\"></script>\n\n\n\n\n\n\n\n\n\n\n\n\n\n\n\n\n\n\n</html>\n\n\n'",
     "output_type": "error",
     "traceback": [
      "\u001b[1;31m---------------------------------------------------------------------------\u001b[0m",
      "\u001b[1;31mMlflowException\u001b[0m                           Traceback (most recent call last)",
      "Cell \u001b[1;32mIn[24], line 8\u001b[0m\n\u001b[0;32m      6\u001b[0m     model_evaluation_config\u001b[38;5;241m.\u001b[39mlog_into_mlflow()\n\u001b[0;32m      7\u001b[0m \u001b[38;5;28;01mexcept\u001b[39;00m \u001b[38;5;167;01mException\u001b[39;00m \u001b[38;5;28;01mas\u001b[39;00m e:\n\u001b[1;32m----> 8\u001b[0m     \u001b[38;5;28;01mraise\u001b[39;00m e    \n",
      "Cell \u001b[1;32mIn[24], line 6\u001b[0m\n\u001b[0;32m      4\u001b[0m     model_evaluation_config \u001b[38;5;241m=\u001b[39m config\u001b[38;5;241m.\u001b[39mget_model_evaluation_config()\n\u001b[0;32m      5\u001b[0m     model_evaluation_config\u001b[38;5;241m=\u001b[39mModelEvaluation(config\u001b[38;5;241m=\u001b[39mmodel_evaluation_config)\n\u001b[1;32m----> 6\u001b[0m     \u001b[43mmodel_evaluation_config\u001b[49m\u001b[38;5;241;43m.\u001b[39;49m\u001b[43mlog_into_mlflow\u001b[49m\u001b[43m(\u001b[49m\u001b[43m)\u001b[49m\n\u001b[0;32m      7\u001b[0m \u001b[38;5;28;01mexcept\u001b[39;00m \u001b[38;5;167;01mException\u001b[39;00m \u001b[38;5;28;01mas\u001b[39;00m e:\n\u001b[0;32m      8\u001b[0m     \u001b[38;5;28;01mraise\u001b[39;00m e    \n",
      "Cell \u001b[1;32mIn[23], line 40\u001b[0m, in \u001b[0;36mModelEvaluation.log_into_mlflow\u001b[1;34m(self)\u001b[0m\n\u001b[0;32m     38\u001b[0m \u001b[38;5;66;03m#Model registry does not work with file store\u001b[39;00m\n\u001b[0;32m     39\u001b[0m \u001b[38;5;28;01mif\u001b[39;00m tracking_url_type_store \u001b[38;5;241m!=\u001b[39m \u001b[38;5;124m\"\u001b[39m\u001b[38;5;124mfile\u001b[39m\u001b[38;5;124m\"\u001b[39m:\n\u001b[1;32m---> 40\u001b[0m     \u001b[43mmlflow\u001b[49m\u001b[38;5;241;43m.\u001b[39;49m\u001b[43msklearn\u001b[49m\u001b[38;5;241;43m.\u001b[39;49m\u001b[43mlog_model\u001b[49m\u001b[43m(\u001b[49m\u001b[43mmodel\u001b[49m\u001b[43m,\u001b[49m\u001b[43m \u001b[49m\u001b[38;5;124;43m\"\u001b[39;49m\u001b[38;5;124;43mmodel\u001b[39;49m\u001b[38;5;124;43m\"\u001b[39;49m\u001b[43m,\u001b[49m\u001b[43m \u001b[49m\u001b[43mregistered_model_name\u001b[49m\u001b[38;5;241;43m=\u001b[39;49m\u001b[38;5;124;43m\"\u001b[39;49m\u001b[38;5;124;43mLinearRegression\u001b[39;49m\u001b[38;5;124;43m\"\u001b[39;49m\u001b[43m)\u001b[49m\n\u001b[0;32m     41\u001b[0m \u001b[38;5;28;01melse\u001b[39;00m:\n\u001b[0;32m     42\u001b[0m     mlflow\u001b[38;5;241m.\u001b[39msklearn\u001b[38;5;241m.\u001b[39mlog_model(model, \u001b[38;5;124m\"\u001b[39m\u001b[38;5;124mmodel\u001b[39m\u001b[38;5;124m\"\u001b[39m)\n",
      "File \u001b[1;32mc:\\Users\\RICH-FILES\\anacoda4\\envs\\ln\\lib\\site-packages\\mlflow\\sklearn\\__init__.py:413\u001b[0m, in \u001b[0;36mlog_model\u001b[1;34m(sk_model, artifact_path, conda_env, code_paths, serialization_format, registered_model_name, signature, input_example, await_registration_for, pip_requirements, extra_pip_requirements, pyfunc_predict_fn, metadata)\u001b[0m\n\u001b[0;32m    334\u001b[0m \u001b[38;5;129m@format_docstring\u001b[39m(LOG_MODEL_PARAM_DOCS\u001b[38;5;241m.\u001b[39mformat(package_name\u001b[38;5;241m=\u001b[39m\u001b[38;5;124m\"\u001b[39m\u001b[38;5;124mscikit-learn\u001b[39m\u001b[38;5;124m\"\u001b[39m))\n\u001b[0;32m    335\u001b[0m \u001b[38;5;28;01mdef\u001b[39;00m\u001b[38;5;250m \u001b[39m\u001b[38;5;21mlog_model\u001b[39m(\n\u001b[0;32m    336\u001b[0m     sk_model,\n\u001b[1;32m   (...)\u001b[0m\n\u001b[0;32m    348\u001b[0m     metadata\u001b[38;5;241m=\u001b[39m\u001b[38;5;28;01mNone\u001b[39;00m,\n\u001b[0;32m    349\u001b[0m ):\n\u001b[0;32m    350\u001b[0m \u001b[38;5;250m    \u001b[39m\u001b[38;5;124;03m\"\"\"\u001b[39;00m\n\u001b[0;32m    351\u001b[0m \u001b[38;5;124;03m    Log a scikit-learn model as an MLflow artifact for the current run. Produces an MLflow Model\u001b[39;00m\n\u001b[0;32m    352\u001b[0m \u001b[38;5;124;03m    containing the following flavors:\u001b[39;00m\n\u001b[1;32m   (...)\u001b[0m\n\u001b[0;32m    411\u001b[0m \n\u001b[0;32m    412\u001b[0m \u001b[38;5;124;03m    \"\"\"\u001b[39;00m\n\u001b[1;32m--> 413\u001b[0m     \u001b[38;5;28;01mreturn\u001b[39;00m \u001b[43mModel\u001b[49m\u001b[38;5;241;43m.\u001b[39;49m\u001b[43mlog\u001b[49m\u001b[43m(\u001b[49m\n\u001b[0;32m    414\u001b[0m \u001b[43m        \u001b[49m\u001b[43martifact_path\u001b[49m\u001b[38;5;241;43m=\u001b[39;49m\u001b[43martifact_path\u001b[49m\u001b[43m,\u001b[49m\n\u001b[0;32m    415\u001b[0m \u001b[43m        \u001b[49m\u001b[43mflavor\u001b[49m\u001b[38;5;241;43m=\u001b[39;49m\u001b[43mmlflow\u001b[49m\u001b[38;5;241;43m.\u001b[39;49m\u001b[43msklearn\u001b[49m\u001b[43m,\u001b[49m\n\u001b[0;32m    416\u001b[0m \u001b[43m        \u001b[49m\u001b[43msk_model\u001b[49m\u001b[38;5;241;43m=\u001b[39;49m\u001b[43msk_model\u001b[49m\u001b[43m,\u001b[49m\n\u001b[0;32m    417\u001b[0m \u001b[43m        \u001b[49m\u001b[43mconda_env\u001b[49m\u001b[38;5;241;43m=\u001b[39;49m\u001b[43mconda_env\u001b[49m\u001b[43m,\u001b[49m\n\u001b[0;32m    418\u001b[0m \u001b[43m        \u001b[49m\u001b[43mcode_paths\u001b[49m\u001b[38;5;241;43m=\u001b[39;49m\u001b[43mcode_paths\u001b[49m\u001b[43m,\u001b[49m\n\u001b[0;32m    419\u001b[0m \u001b[43m        \u001b[49m\u001b[43mserialization_format\u001b[49m\u001b[38;5;241;43m=\u001b[39;49m\u001b[43mserialization_format\u001b[49m\u001b[43m,\u001b[49m\n\u001b[0;32m    420\u001b[0m \u001b[43m        \u001b[49m\u001b[43mregistered_model_name\u001b[49m\u001b[38;5;241;43m=\u001b[39;49m\u001b[43mregistered_model_name\u001b[49m\u001b[43m,\u001b[49m\n\u001b[0;32m    421\u001b[0m \u001b[43m        \u001b[49m\u001b[43msignature\u001b[49m\u001b[38;5;241;43m=\u001b[39;49m\u001b[43msignature\u001b[49m\u001b[43m,\u001b[49m\n\u001b[0;32m    422\u001b[0m \u001b[43m        \u001b[49m\u001b[43minput_example\u001b[49m\u001b[38;5;241;43m=\u001b[39;49m\u001b[43minput_example\u001b[49m\u001b[43m,\u001b[49m\n\u001b[0;32m    423\u001b[0m \u001b[43m        \u001b[49m\u001b[43mawait_registration_for\u001b[49m\u001b[38;5;241;43m=\u001b[39;49m\u001b[43mawait_registration_for\u001b[49m\u001b[43m,\u001b[49m\n\u001b[0;32m    424\u001b[0m \u001b[43m        \u001b[49m\u001b[43mpip_requirements\u001b[49m\u001b[38;5;241;43m=\u001b[39;49m\u001b[43mpip_requirements\u001b[49m\u001b[43m,\u001b[49m\n\u001b[0;32m    425\u001b[0m \u001b[43m        \u001b[49m\u001b[43mextra_pip_requirements\u001b[49m\u001b[38;5;241;43m=\u001b[39;49m\u001b[43mextra_pip_requirements\u001b[49m\u001b[43m,\u001b[49m\n\u001b[0;32m    426\u001b[0m \u001b[43m        \u001b[49m\u001b[43mpyfunc_predict_fn\u001b[49m\u001b[38;5;241;43m=\u001b[39;49m\u001b[43mpyfunc_predict_fn\u001b[49m\u001b[43m,\u001b[49m\n\u001b[0;32m    427\u001b[0m \u001b[43m        \u001b[49m\u001b[43mmetadata\u001b[49m\u001b[38;5;241;43m=\u001b[39;49m\u001b[43mmetadata\u001b[49m\u001b[43m,\u001b[49m\n\u001b[0;32m    428\u001b[0m \u001b[43m    \u001b[49m\u001b[43m)\u001b[49m\n",
      "File \u001b[1;32mc:\\Users\\RICH-FILES\\anacoda4\\envs\\ln\\lib\\site-packages\\mlflow\\models\\model.py:911\u001b[0m, in \u001b[0;36mModel.log\u001b[1;34m(cls, artifact_path, flavor, registered_model_name, await_registration_for, metadata, run_id, resources, **kwargs)\u001b[0m\n\u001b[0;32m    908\u001b[0m     _logger\u001b[38;5;241m.\u001b[39mdebug(\u001b[38;5;124m\"\u001b[39m\u001b[38;5;124m\"\u001b[39m, exc_info\u001b[38;5;241m=\u001b[39m\u001b[38;5;28;01mTrue\u001b[39;00m)\n\u001b[0;32m    910\u001b[0m \u001b[38;5;28;01mif\u001b[39;00m registered_model_name \u001b[38;5;129;01mis\u001b[39;00m \u001b[38;5;129;01mnot\u001b[39;00m \u001b[38;5;28;01mNone\u001b[39;00m:\n\u001b[1;32m--> 911\u001b[0m     registered_model \u001b[38;5;241m=\u001b[39m \u001b[43mmlflow\u001b[49m\u001b[38;5;241;43m.\u001b[39;49m\u001b[43mtracking\u001b[49m\u001b[38;5;241;43m.\u001b[39;49m\u001b[43m_model_registry\u001b[49m\u001b[38;5;241;43m.\u001b[39;49m\u001b[43mfluent\u001b[49m\u001b[38;5;241;43m.\u001b[39;49m\u001b[43m_register_model\u001b[49m\u001b[43m(\u001b[49m\n\u001b[0;32m    912\u001b[0m \u001b[43m        \u001b[49m\u001b[38;5;124;43mf\u001b[39;49m\u001b[38;5;124;43m\"\u001b[39;49m\u001b[38;5;124;43mruns:/\u001b[39;49m\u001b[38;5;132;43;01m{\u001b[39;49;00m\u001b[43mrun_id\u001b[49m\u001b[38;5;132;43;01m}\u001b[39;49;00m\u001b[38;5;124;43m/\u001b[39;49m\u001b[38;5;132;43;01m{\u001b[39;49;00m\u001b[43mmlflow_model\u001b[49m\u001b[38;5;241;43m.\u001b[39;49m\u001b[43martifact_path\u001b[49m\u001b[38;5;132;43;01m}\u001b[39;49;00m\u001b[38;5;124;43m\"\u001b[39;49m\u001b[43m,\u001b[49m\n\u001b[0;32m    913\u001b[0m \u001b[43m        \u001b[49m\u001b[43mregistered_model_name\u001b[49m\u001b[43m,\u001b[49m\n\u001b[0;32m    914\u001b[0m \u001b[43m        \u001b[49m\u001b[43mawait_registration_for\u001b[49m\u001b[38;5;241;43m=\u001b[39;49m\u001b[43mawait_registration_for\u001b[49m\u001b[43m,\u001b[49m\n\u001b[0;32m    915\u001b[0m \u001b[43m        \u001b[49m\u001b[43mlocal_model_path\u001b[49m\u001b[38;5;241;43m=\u001b[39;49m\u001b[43mlocal_path\u001b[49m\u001b[43m,\u001b[49m\n\u001b[0;32m    916\u001b[0m \u001b[43m    \u001b[49m\u001b[43m)\u001b[49m\n\u001b[0;32m    917\u001b[0m model_info \u001b[38;5;241m=\u001b[39m mlflow_model\u001b[38;5;241m.\u001b[39mget_model_info()\n\u001b[0;32m    918\u001b[0m \u001b[38;5;28;01mif\u001b[39;00m registered_model \u001b[38;5;129;01mis\u001b[39;00m \u001b[38;5;129;01mnot\u001b[39;00m \u001b[38;5;28;01mNone\u001b[39;00m:\n",
      "File \u001b[1;32mc:\\Users\\RICH-FILES\\anacoda4\\envs\\ln\\lib\\site-packages\\mlflow\\tracking\\_model_registry\\fluent.py:103\u001b[0m, in \u001b[0;36m_register_model\u001b[1;34m(model_uri, name, await_registration_for, tags, local_model_path)\u001b[0m\n\u001b[0;32m     99\u001b[0m         eprint(\n\u001b[0;32m    100\u001b[0m             \u001b[38;5;124mf\u001b[39m\u001b[38;5;124m\"\u001b[39m\u001b[38;5;124mRegistered model \u001b[39m\u001b[38;5;132;01m{\u001b[39;00mname\u001b[38;5;132;01m!r}\u001b[39;00m\u001b[38;5;124m already exists. Creating a new version of this model...\u001b[39m\u001b[38;5;124m\"\u001b[39m\n\u001b[0;32m    101\u001b[0m         )\n\u001b[0;32m    102\u001b[0m     \u001b[38;5;28;01melse\u001b[39;00m:\n\u001b[1;32m--> 103\u001b[0m         \u001b[38;5;28;01mraise\u001b[39;00m e\n\u001b[0;32m    105\u001b[0m run_id \u001b[38;5;241m=\u001b[39m \u001b[38;5;28;01mNone\u001b[39;00m\n\u001b[0;32m    106\u001b[0m source \u001b[38;5;241m=\u001b[39m model_uri\n",
      "File \u001b[1;32mc:\\Users\\RICH-FILES\\anacoda4\\envs\\ln\\lib\\site-packages\\mlflow\\tracking\\_model_registry\\fluent.py:92\u001b[0m, in \u001b[0;36m_register_model\u001b[1;34m(model_uri, name, await_registration_for, tags, local_model_path)\u001b[0m\n\u001b[0;32m     90\u001b[0m client \u001b[38;5;241m=\u001b[39m MlflowClient()\n\u001b[0;32m     91\u001b[0m \u001b[38;5;28;01mtry\u001b[39;00m:\n\u001b[1;32m---> 92\u001b[0m     create_model_response \u001b[38;5;241m=\u001b[39m \u001b[43mclient\u001b[49m\u001b[38;5;241;43m.\u001b[39;49m\u001b[43mcreate_registered_model\u001b[49m\u001b[43m(\u001b[49m\u001b[43mname\u001b[49m\u001b[43m)\u001b[49m\n\u001b[0;32m     93\u001b[0m     eprint(\u001b[38;5;124mf\u001b[39m\u001b[38;5;124m\"\u001b[39m\u001b[38;5;124mSuccessfully registered model \u001b[39m\u001b[38;5;124m'\u001b[39m\u001b[38;5;132;01m{\u001b[39;00mcreate_model_response\u001b[38;5;241m.\u001b[39mname\u001b[38;5;132;01m}\u001b[39;00m\u001b[38;5;124m'\u001b[39m\u001b[38;5;124m.\u001b[39m\u001b[38;5;124m\"\u001b[39m)\n\u001b[0;32m     94\u001b[0m \u001b[38;5;28;01mexcept\u001b[39;00m MlflowException \u001b[38;5;28;01mas\u001b[39;00m e:\n",
      "File \u001b[1;32mc:\\Users\\RICH-FILES\\anacoda4\\envs\\ln\\lib\\site-packages\\mlflow\\tracking\\client.py:3184\u001b[0m, in \u001b[0;36mMlflowClient.create_registered_model\u001b[1;34m(self, name, tags, description)\u001b[0m\n\u001b[0;32m   3138\u001b[0m \u001b[38;5;28;01mdef\u001b[39;00m\u001b[38;5;250m \u001b[39m\u001b[38;5;21mcreate_registered_model\u001b[39m(\n\u001b[0;32m   3139\u001b[0m     \u001b[38;5;28mself\u001b[39m, name: \u001b[38;5;28mstr\u001b[39m, tags: Optional[\u001b[38;5;28mdict\u001b[39m[\u001b[38;5;28mstr\u001b[39m, Any]] \u001b[38;5;241m=\u001b[39m \u001b[38;5;28;01mNone\u001b[39;00m, description: Optional[\u001b[38;5;28mstr\u001b[39m] \u001b[38;5;241m=\u001b[39m \u001b[38;5;28;01mNone\u001b[39;00m\n\u001b[0;32m   3140\u001b[0m ) \u001b[38;5;241m-\u001b[39m\u001b[38;5;241m>\u001b[39m RegisteredModel:\n\u001b[0;32m   3141\u001b[0m \u001b[38;5;250m    \u001b[39m\u001b[38;5;124;03m\"\"\"\u001b[39;00m\n\u001b[0;32m   3142\u001b[0m \u001b[38;5;124;03m    Create a new registered model in backend store.\u001b[39;00m\n\u001b[0;32m   3143\u001b[0m \n\u001b[1;32m   (...)\u001b[0m\n\u001b[0;32m   3182\u001b[0m \n\u001b[0;32m   3183\u001b[0m \u001b[38;5;124;03m    \"\"\"\u001b[39;00m\n\u001b[1;32m-> 3184\u001b[0m     \u001b[38;5;28;01mreturn\u001b[39;00m \u001b[38;5;28;43mself\u001b[39;49m\u001b[38;5;241;43m.\u001b[39;49m\u001b[43m_get_registry_client\u001b[49m\u001b[43m(\u001b[49m\u001b[43m)\u001b[49m\u001b[38;5;241;43m.\u001b[39;49m\u001b[43mcreate_registered_model\u001b[49m\u001b[43m(\u001b[49m\u001b[43mname\u001b[49m\u001b[43m,\u001b[49m\u001b[43m \u001b[49m\u001b[43mtags\u001b[49m\u001b[43m,\u001b[49m\u001b[43m \u001b[49m\u001b[43mdescription\u001b[49m\u001b[43m)\u001b[49m\n",
      "File \u001b[1;32mc:\\Users\\RICH-FILES\\anacoda4\\envs\\ln\\lib\\site-packages\\mlflow\\tracking\\_model_registry\\client.py:64\u001b[0m, in \u001b[0;36mModelRegistryClient.create_registered_model\u001b[1;34m(self, name, tags, description)\u001b[0m\n\u001b[0;32m     62\u001b[0m tags \u001b[38;5;241m=\u001b[39m tags \u001b[38;5;28;01mif\u001b[39;00m tags \u001b[38;5;28;01melse\u001b[39;00m {}\n\u001b[0;32m     63\u001b[0m tags \u001b[38;5;241m=\u001b[39m [RegisteredModelTag(key, \u001b[38;5;28mstr\u001b[39m(value)) \u001b[38;5;28;01mfor\u001b[39;00m key, value \u001b[38;5;129;01min\u001b[39;00m tags\u001b[38;5;241m.\u001b[39mitems()]\n\u001b[1;32m---> 64\u001b[0m \u001b[38;5;28;01mreturn\u001b[39;00m \u001b[38;5;28;43mself\u001b[39;49m\u001b[38;5;241;43m.\u001b[39;49m\u001b[43mstore\u001b[49m\u001b[38;5;241;43m.\u001b[39;49m\u001b[43mcreate_registered_model\u001b[49m\u001b[43m(\u001b[49m\u001b[43mname\u001b[49m\u001b[43m,\u001b[49m\u001b[43m \u001b[49m\u001b[43mtags\u001b[49m\u001b[43m,\u001b[49m\u001b[43m \u001b[49m\u001b[43mdescription\u001b[49m\u001b[43m)\u001b[49m\n",
      "File \u001b[1;32mc:\\Users\\RICH-FILES\\anacoda4\\envs\\ln\\lib\\site-packages\\mlflow\\store\\model_registry\\rest_store.py:82\u001b[0m, in \u001b[0;36mRestStore.create_registered_model\u001b[1;34m(self, name, tags, description)\u001b[0m\n\u001b[0;32m     78\u001b[0m proto_tags \u001b[38;5;241m=\u001b[39m [tag\u001b[38;5;241m.\u001b[39mto_proto() \u001b[38;5;28;01mfor\u001b[39;00m tag \u001b[38;5;129;01min\u001b[39;00m tags \u001b[38;5;129;01mor\u001b[39;00m []]\n\u001b[0;32m     79\u001b[0m req_body \u001b[38;5;241m=\u001b[39m message_to_json(\n\u001b[0;32m     80\u001b[0m     CreateRegisteredModel(name\u001b[38;5;241m=\u001b[39mname, tags\u001b[38;5;241m=\u001b[39mproto_tags, description\u001b[38;5;241m=\u001b[39mdescription)\n\u001b[0;32m     81\u001b[0m )\n\u001b[1;32m---> 82\u001b[0m response_proto \u001b[38;5;241m=\u001b[39m \u001b[38;5;28;43mself\u001b[39;49m\u001b[38;5;241;43m.\u001b[39;49m\u001b[43m_call_endpoint\u001b[49m\u001b[43m(\u001b[49m\u001b[43mCreateRegisteredModel\u001b[49m\u001b[43m,\u001b[49m\u001b[43m \u001b[49m\u001b[43mreq_body\u001b[49m\u001b[43m)\u001b[49m\n\u001b[0;32m     83\u001b[0m \u001b[38;5;28;01mreturn\u001b[39;00m RegisteredModel\u001b[38;5;241m.\u001b[39mfrom_proto(response_proto\u001b[38;5;241m.\u001b[39mregistered_model)\n",
      "File \u001b[1;32mc:\\Users\\RICH-FILES\\anacoda4\\envs\\ln\\lib\\site-packages\\mlflow\\store\\model_registry\\base_rest_store.py:44\u001b[0m, in \u001b[0;36mBaseRestStore._call_endpoint\u001b[1;34m(self, api, json_body, call_all_endpoints, extra_headers)\u001b[0m\n\u001b[0;32m     42\u001b[0m \u001b[38;5;28;01melse\u001b[39;00m:\n\u001b[0;32m     43\u001b[0m     endpoint, method \u001b[38;5;241m=\u001b[39m \u001b[38;5;28mself\u001b[39m\u001b[38;5;241m.\u001b[39m_get_endpoint_from_method(api)\n\u001b[1;32m---> 44\u001b[0m     \u001b[38;5;28;01mreturn\u001b[39;00m \u001b[43mcall_endpoint\u001b[49m\u001b[43m(\u001b[49m\n\u001b[0;32m     45\u001b[0m \u001b[43m        \u001b[49m\u001b[38;5;28;43mself\u001b[39;49m\u001b[38;5;241;43m.\u001b[39;49m\u001b[43mget_host_creds\u001b[49m\u001b[43m(\u001b[49m\u001b[43m)\u001b[49m\u001b[43m,\u001b[49m\u001b[43m \u001b[49m\u001b[43mendpoint\u001b[49m\u001b[43m,\u001b[49m\u001b[43m \u001b[49m\u001b[43mmethod\u001b[49m\u001b[43m,\u001b[49m\u001b[43m \u001b[49m\u001b[43mjson_body\u001b[49m\u001b[43m,\u001b[49m\u001b[43m \u001b[49m\u001b[43mresponse_proto\u001b[49m\u001b[43m,\u001b[49m\u001b[43m \u001b[49m\u001b[43mextra_headers\u001b[49m\n\u001b[0;32m     46\u001b[0m \u001b[43m    \u001b[49m\u001b[43m)\u001b[49m\n",
      "File \u001b[1;32mc:\\Users\\RICH-FILES\\anacoda4\\envs\\ln\\lib\\site-packages\\mlflow\\utils\\rest_utils.py:392\u001b[0m, in \u001b[0;36mcall_endpoint\u001b[1;34m(host_creds, endpoint, method, json_body, response_proto, extra_headers)\u001b[0m\n\u001b[0;32m    389\u001b[0m     call_kwargs[\u001b[38;5;124m\"\u001b[39m\u001b[38;5;124mjson\u001b[39m\u001b[38;5;124m\"\u001b[39m] \u001b[38;5;241m=\u001b[39m json_body\n\u001b[0;32m    390\u001b[0m     response \u001b[38;5;241m=\u001b[39m http_request(\u001b[38;5;241m*\u001b[39m\u001b[38;5;241m*\u001b[39mcall_kwargs)\n\u001b[1;32m--> 392\u001b[0m response \u001b[38;5;241m=\u001b[39m \u001b[43mverify_rest_response\u001b[49m\u001b[43m(\u001b[49m\u001b[43mresponse\u001b[49m\u001b[43m,\u001b[49m\u001b[43m \u001b[49m\u001b[43mendpoint\u001b[49m\u001b[43m)\u001b[49m\n\u001b[0;32m    393\u001b[0m response_to_parse \u001b[38;5;241m=\u001b[39m response\u001b[38;5;241m.\u001b[39mtext\n\u001b[0;32m    394\u001b[0m js_dict \u001b[38;5;241m=\u001b[39m json\u001b[38;5;241m.\u001b[39mloads(response_to_parse)\n",
      "File \u001b[1;32mc:\\Users\\RICH-FILES\\anacoda4\\envs\\ln\\lib\\site-packages\\mlflow\\utils\\rest_utils.py:255\u001b[0m, in \u001b[0;36mverify_rest_response\u001b[1;34m(response, endpoint)\u001b[0m\n\u001b[0;32m    250\u001b[0m     \u001b[38;5;28;01melse\u001b[39;00m:\n\u001b[0;32m    251\u001b[0m         base_msg \u001b[38;5;241m=\u001b[39m (\n\u001b[0;32m    252\u001b[0m             \u001b[38;5;124mf\u001b[39m\u001b[38;5;124m\"\u001b[39m\u001b[38;5;124mAPI request to endpoint \u001b[39m\u001b[38;5;132;01m{\u001b[39;00mendpoint\u001b[38;5;132;01m}\u001b[39;00m\u001b[38;5;124m \u001b[39m\u001b[38;5;124m\"\u001b[39m\n\u001b[0;32m    253\u001b[0m             \u001b[38;5;124mf\u001b[39m\u001b[38;5;124m\"\u001b[39m\u001b[38;5;124mfailed with error code \u001b[39m\u001b[38;5;132;01m{\u001b[39;00mresponse\u001b[38;5;241m.\u001b[39mstatus_code\u001b[38;5;132;01m}\u001b[39;00m\u001b[38;5;124m != 200\u001b[39m\u001b[38;5;124m\"\u001b[39m\n\u001b[0;32m    254\u001b[0m         )\n\u001b[1;32m--> 255\u001b[0m         \u001b[38;5;28;01mraise\u001b[39;00m MlflowException(\n\u001b[0;32m    256\u001b[0m             \u001b[38;5;124mf\u001b[39m\u001b[38;5;124m\"\u001b[39m\u001b[38;5;132;01m{\u001b[39;00mbase_msg\u001b[38;5;132;01m}\u001b[39;00m\u001b[38;5;124m. Response body: \u001b[39m\u001b[38;5;124m'\u001b[39m\u001b[38;5;132;01m{\u001b[39;00mresponse\u001b[38;5;241m.\u001b[39mtext\u001b[38;5;132;01m}\u001b[39;00m\u001b[38;5;124m'\u001b[39m\u001b[38;5;124m\"\u001b[39m,\n\u001b[0;32m    257\u001b[0m             error_code\u001b[38;5;241m=\u001b[39mget_error_code(response\u001b[38;5;241m.\u001b[39mstatus_code),\n\u001b[0;32m    258\u001b[0m         )\n\u001b[0;32m    260\u001b[0m \u001b[38;5;66;03m# Skip validation for endpoints (e.g. DBFS file-download API) which may return a non-JSON\u001b[39;00m\n\u001b[0;32m    261\u001b[0m \u001b[38;5;66;03m# response\u001b[39;00m\n\u001b[0;32m    262\u001b[0m \u001b[38;5;28;01mif\u001b[39;00m endpoint\u001b[38;5;241m.\u001b[39mstartswith(_REST_API_PATH_PREFIX) \u001b[38;5;129;01mand\u001b[39;00m \u001b[38;5;129;01mnot\u001b[39;00m _can_parse_as_json_object(response\u001b[38;5;241m.\u001b[39mtext):\n",
      "\u001b[1;31mMlflowException\u001b[0m: API request to endpoint /api/2.0/mlflow/registered-models/create failed with error code 404 != 200. Response body: '<!DOCTYPE html>\n<html lang=\"en-US\">\n  <head data-suburl=\"\">\n    <meta http-equiv=\"Content-Type\" content=\"text/html; charset=UTF-8\"/>\n    <meta http-equiv=\"X-UA-Compatible\" content=\"IE=edge\"/>\n    \n    \n      <meta name=\"viewport\" content=\"width=device-width, initial-scale=1\"/>\n    \n    <meta name=\"referrer\" content=\"no-referrer\"/>\n    <meta name=\"_csrf\" content=\"zC4Thaf4DLQYSO0T7DeCT2Yy2486MTc0MTI5NTMxMjY4NTEwMTI2MQ\"/>\n    <meta name=\"_suburl\" content=\"\"/>\n    <meta name=\"_appversion\" content=\"f9e04d423df929e9e228f5ef20ec6c0414502228\" />\n    <meta name=\"_bareRepo\" content=\"\"/>\n\n    \n    \n  <script>(function(w, d, s, l, i) {\n      w[l] = w[l] || [];\n      w[l].push({\n        'gtm.start':\n          new Date().getTime(), event: 'gtm.js'\n      });\n      var f = d.getElementsByTagName(s)[0],\n        j = d.createElement(s),\n        dl = l != 'dataLayer' ? '&l=' + l : '';\n      j.async = true;\n      j.src =\n        'https://www.googletagmanager.com/gtm.js?id=' + i + dl;\n      f.parentNode.insertBefore(j, f);\n    })(window, document, 'script', 'dataLayer', 'GTM-PGHTMDN');</script>\n\n    \n\n    \n    \n      \n    \n    \n  \n    <title>Page Not Found · DAGsHub</title>\n    <meta name=\"description\"\n          content=\"DagsHub is where people build machine learning projects. DagsHub helps AI teams build better models and manage their data effectively.\"/>\n  \n  \n  <meta property=\"og:url\" content=\"https://dagshub.com/\"/>\n  <meta property=\"og:type\" content=\"website\"/>\n  <meta property=\"og:site_name\" content=\"DagsHub\">\n  <meta property=\"og:title\" content=\"DagsHub: The Home for Machine Learning Collaboration\">\n  <meta property=\"og:description\"\n        content=\"DagsHub is where people build machine learning projects. DagsHub helps AI teams build better models and manage their data effectively.\">\n  <meta property=\"og:image\" content=\"https://dagshub.com/img/open_graph/dagshub-logo.jpg\"/>\n  <meta property=\"og:image:type\" content=\"image/png\">\n  <meta property=\"og:image:width\" content=\"1200\">\n  <meta property=\"og:image:height\" content=\"630\">\n  \n  <meta property=\"twitter:site\" content=\"@TheRealDagsHub\">\n  <meta property=\"twitter:creator\" content=\"@TheRealDagsHub\">\n  <meta property=\"twitter:card\" content=\"summary_large_image\">\n  <meta property=\"twitter:title\" content=\"DagsHub: The Home for Machine Learning Collaboration\">\n  <meta property=\"twitter:description\"\n        content=\"DagsHub is where people build machine learning projects. DagsHub helps AI teams build better models and manage their data effectively.\">\n  <meta property=\"twitter:image:src\" content=\"https://dagshub.com/img/open_graph/dagshub-logo.jpg\">\n  <meta property=\"twitter:image:width\" content=\"1200\">\n  <meta property=\"twitter:image:height\" content=\"630\">\n\n  <script type=\"application/ld+json\">\n    {\n        \"@context\": \"http://schema.org\",\n        \"@type\": \"WebSite\",\n        \"name\": \"DagsHub\",\n        \"url\": \"https://dagshub.com/\",\n        \"sameAs\": [\n            \"https://www.facebook.com/DagsHub/\",\n            \"https://twitter.com/TheRealDagsHub/\",\n            \"https://linkedin.com/company/dagshub/\"\n        ],\n        \"potentialAction\": {\n        \"@type\": \"SearchAction\",\n        \"description\": \"Search for data science projects on DagsHub.\",\n        \"target\": \"https://dagshub.com/explore/repos?q={search_term}\",\n        \"query-input\": \"required name=search_term\"\n        }\n    }\n  </script>\n\n\n    \n\n    <link rel=\"shortcut icon\" href=\"/img/favicon-black.svg\"/>\n\n    <script src=\"/js/jquery-3.6.0.min.js\"></script>\n    \n  <link rel=\"stylesheet\" href=\"https://cdnjs.cloudflare.com/ajax/libs/font-awesome/5.15.3/css/all.css\"\n        integrity=\"sha512-3icgkoIO5qm2D4bGSUkPqeQ96LS8+ukJC7Eqhl1H5B2OJMEnFqLmNDxXVmtV/eq5M65tTDkUYS/Q0P4gvZv+yA==\"\n        crossorigin=\"anonymous\"\n        referrerpolicy=\"no-referrer\" />\n\n\n    <link rel=\"stylesheet\" href=\"/assets/octicons-4.3.0/octicons.min.css\">\n\n    \n    \n\n    \n\n    \n\n    \n\n    \n\n    \n\n    \n\n    \n\n    \n    \n    <link rel=\"preload\" href=\"/css/themes/default/assets/fonts/brand-icons.woff2\" as=\"font\"\n          type=\"font/woff2\" crossorigin/>\n    <link rel=\"preload\" href=\"/css/themes/default/assets/fonts/icons.woff2\" as=\"font\" type=\"font/woff2\"\n          crossorigin/>\n    <link rel=\"preload\" href=\"/assets/fontawesome-5.15.3/webfonts/fa-solid-900.woff2\" as=\"font\"\n          type=\"font/woff2\" crossorigin/>\n\n    \n    <link rel=\"stylesheet\" href=\"/css/semantic-2.4.2.min.css\">\n\n    \n    <link rel=\"stylesheet\" href=\"/css/build/dagshub.css?v=f9e04d423df929e9e228f5ef20ec6c0414502228\">\n    <link rel=\"stylesheet\" href=\"/css/gogs.css?v=f9e04d423df929e9e228f5ef20ec6c0414502228\">\n\n    \n    \n    <link rel=\"preconnect\" href=\"https://fonts.googleapis.com\">\n    <link rel=\"preconnect\" href=\"https://fonts.gstatic.com\" crossorigin>\n    <link href=\"https://fonts.googleapis.com/css?family=Comfortaa|Lato:300,400,700,900|Jaldi|Open+Sans&display=swap\" rel=\"stylesheet\">\n    \n\n    <noscript>\n      <style>\n        .dropdown:hover > .menu {\n          display: block;\n        }\n\n        .ui.secondary.menu .dropdown.item > .menu {\n          margin-top: 0;\n        }\n      </style>\n    </noscript>\n    <script src=\"/js/semantic-2.4.2.min.js\"></script>\n\n    \n    \n      <link rel=\"stylesheet\" href=\"/css/build/static_dagshub.css?v=f9e04d423df929e9e228f5ef20ec6c0414502228\">\n      \n      <link href=\"https://fonts.googleapis.com/css2?family=Inter:wght@300;400;500;600;700;900&display=swap\" rel=\"stylesheet\">\n      <link href='https://fonts.googleapis.com/css?family=Fira Code:wght@300;400;500;600;700;900' rel='stylesheet'>\n      \n    \n\n    <meta name=\"theme-color\" content=\"#103037\">\n\n    \n  <script src=\"https://www.google.com/recaptcha/api.js\" async defer></script>\n\n\n\n    \n  </head>\n  <body>\n\n    \n\n\n\n  <noscript>\n    <iframe src=\"https://www.googletagmanager.com/ns.html?id=GTM-PGHTMDN\"\n            height=\"0\" width=\"0\" style=\"display:none;visibility:hidden\"></iframe>\n  </noscript>\n\n\n\n\n<div class=\"ui tiny modal\" id=\"contact-modal\">\n  <i class=\"close icon\"></i>\n  <div class=\"header\">\n    Contact us\n  </div>\n  <form id=\"contact-form\" class=\"ui form content\" action=\"contact_form\" method=\"post\">\n    <input type=\"hidden\" name=\"_csrf\" value=\"zC4Thaf4DLQYSO0T7DeCT2Yy2486MTc0MTI5NTMxMjY4NTEwMTI2MQ\">\n    <div class=\"required field\">\n      <label for=\"user_name\">Your email address</label>\n      <input name=\"email\" type=\"email\" value=\"\"\n             placeholder=\"tony@stark-industries.com\" required>\n    </div>\n    <div class=\"required field\">\n      <label for=\"subject\">Subject</label>\n      <input name=\"subject\" value=\"Hi DagsHub, let's talk\" placeholder=\"What would you like to talk about?\" required>\n    </div>\n    <div class=\"required field\">\n      <textarea class=\"autosize\" name=\"body\" rows=\"7\" ></textarea>\n    </div>\n    \n      <script type=\"text/javascript\">\n        var myRecaptchaListeners = {\n          callAllListeners: function(listeners) {\n            return () => listeners.forEach((f) => f());\n          },\n          successListeners: [],\n          expireListeners: [],\n        };\n        contactFormCaptchaCallback = myRecaptchaListeners.callAllListeners(myRecaptchaListeners.successListeners);\n        contactFormCaptchaExpired = myRecaptchaListeners.callAllListeners(myRecaptchaListeners.expireListeners);\n      </script>\n      <div class=\"g-recaptcha field\"\n           data-sitekey=\"6Lf0Z7gUAAAAAKCsW1V-PqN58BcBNAUxe-oIU3nw\"\n           data-callback=\"contactFormCaptchaCallback\"\n           data-expired-callback=\"contactFormCaptchaExpired\"></div>\n    \n    <input type=\"hidden\" name=\"page\"/>\n    <input type=\"hidden\" name=\"referring_page\"/>\n    <input type=\"hidden\" name=\"referrer\"/>\n    <button class=\"ui positive center aligned labeled icon button\" id=\"send-contact-request-btn\">\n      Send\n      <i class=\"checkmark icon\"></i>\n    </button>\n    \n      <script type=\"text/javascript\">\n        (function() {\n          const submitBtn = document.getElementById('send-contact-request-btn');\n          onExpire = () => submitBtn.style.display = 'none';\n          onExpire();\n          myRecaptchaListeners.successListeners.push(() => {\n            submitBtn.style.display = 'block';\n          });\n          myRecaptchaListeners.expireListeners.push(onExpire);\n        })();\n      </script>\n    \n    <div class=\"ui hidden dimmer inverted\">\n      <div class=\"ui loader\"></div>\n      <div class=\"ui hidden positive message\">\n        <p>Thank you! We'll be in touch ASAP.</p>\n      </div>\n      <div class=\"ui hidden negative message\">\n        <p>Something went wrong, please try again or contact us directly at <a\n                  href=\"mailto:contact@dagshub.com\">contact@dagshub.com</a></p>\n      </div>\n    </div>\n  </form>\n  <script>\n    (function() {\n      const $contactModal = $('#contact-modal');\n      const $contactForm = $('#contact-form');\n      const $dimmer = $contactForm.find('.dimmer');\n      const $loader = $dimmer.find('.loader');\n      const $okMsg = $dimmer.find('.positive');\n      const $errorMsg = $dimmer.find('.negative');\n\n      $contactForm.find('input[name=page]').val(document.URL);\n      $contactForm.find('input[name=referring_page]').val(new URL(document.URL).searchParams.get('referring_page'));\n      $contactForm.find('input[name=referrer]').val(document.referrer);\n\n      \n      $contactModal.modal({\n        onShow: () => {\n          $dimmer.dimmer('hide');\n          $loader.transition('fade in', 0);\n          $okMsg.transition('fade out', 0);\n          $errorMsg.transition('fade out', 0);\n        }\n      });\n\n      $contactForm.submit((e) => {\n        e.preventDefault();\n\n        $dimmer.dimmer('show');\n\n        function hideModal() {\n          setTimeout(() => {\n            $contactModal.modal('hide');\n          }, 3000);\n        }\n\n        \n        const loaderToMessage = function(targetMsg = $okMsg, afterMsg = hideModal) {\n          $loader.transition('fade out');\n          targetMsg.transition('fade in');\n          if (afterMsg) afterMsg();\n        };\n\n        $.ajax({\n          url: $contactForm.attr('action'),\n          method: 'post',\n          data: $contactForm.serialize(),\n          success: () => loaderToMessage(),\n          error: e => {\n            console.error(e);\n            \n            loaderToMessage($errorMsg, null);\n          }\n        });\n        \n        \n        \n        \n      });\n    })();\n  </script>\n  <div class=\"ui secondary segment\">\n    Or if you want, you can join our community at <a href=\"https://discord.com/invite/9gU36Y6\"\n                                                     class=\"ui basic discord icon\"><i class=\"discord grey icon big\"></i></a>\n  </div>\n</div>\n\n\n\n    \n      \n\n<div class=\"mobile dagshub-navbar\">\n    <div class=\"line-divider\"></div>\n\n\n\n\n  \n    \n      <div class=\"primary center button\" style=\"margin-bottom: 10px;\">\n        <a  id=\"sign-up-navbar-mobile\" data-analytics-event=\"Navbar_Register_Clicked\"\n            href=\"/user/sign_up?redirect_to=%2frichardmukechiwa%2fLoan-Amount-Prediction%2fapi%2f2.0%2fmlflow%2fregistered-models%2fcreate\n\n\">\n          Register\n        </a>\n      </div>\n    \n      <div class=\"secondary center button\">\n        <a id=\"sign-in-navbar-mobile\" data-analytics-event=\"Navbar_Login_Clicked\"\n           href=\"/user/login?redirect_to=%2frichardmukechiwa%2fLoan-Amount-Prediction%2fapi%2f2.0%2fmlflow%2fregistered-models%2fcreate\n\n\">\n          Login\n        </a>\n      </div>\n  \n  <div class=\"line-divider\"></div>\n  \n  \n    <div class=\"subtitle\">Resources</div>\n    <a class=\"navbar-item\"\n       href=\"/docs\" onclick=\"trackAnalyticsEvent('Resources_Docs_Clicked')\">Docs</a>\n    <a class=\"navbar-item\" href=\"/blog\" onclick=\"trackAnalyticsEvent('Resources_Blog_Clicked')\">Blog</a>\n    <a class=\"navbar-item\" data-analytics-event=\"Resources_Datasets_Clicked\" href=\"/datasets\">Datasets</a>\n    <a class=\"navbar-item\" data-analytics-event=\"Resources_Glossary_Clicked\" href=\"/glossary\">Glossary</a>\n    <a class=\"navbar-item\" href=\"/blog/tag/case-study\" onclick=\"trackAnalyticsEvent('Resources_Case_Studies_Clicked')\">Case Studies</a>\n    <a class=\"navbar-item\" href=\"/blog/tag/tutorials\" onclick=\"trackAnalyticsEvent('Resources_Tutorials_Clicked')\">Tutorials &amp; Webinars</a>\n    \n      <div class=\"line-divider\"></div>\n      <div class=\"subtitle\">Product</div>\n      <a class=\"navbar-item\" tabindex=\"0\" href=\"/data-engine\">Data Engine</a>\n      <a class=\"navbar-item\" tabindex=\"0\" href=\"/use-cases/llm\">LLMs</a>\n      <a class=\"navbar-item\" tabindex=\"0\" href=\"/product\">Platform</a>\n      <a class=\"navbar-item\" tabindex=\"0\" href=\"/enterprise\">Enterprise</a>\n    \n    <div class=\"line-divider\"></div>\n    <a class=\"navbar-item\" href=\"/pricing\">Pricing</a>\n  \n  <a class=\"navbar-item\" href=\"/explore/repos\">Explore</a>\n  <div class=\"line-divider\"></div>\n  <a class=\"navbar-item\" href=\"https://discord.com/invite/9gU36Y6\" onclick=\"trackAnalyticsEvent('DiscordIcon_Clicked')\">\n    <img src=\"/assets/social_icons/discord.svg\" aria-label=\"Connect to our Discord channel\">\n    <span>Connect to our Discord channel</span>\n  </a>\n    \n</div>\n<div class=\"pusher\">\n<div class=\"ui full height\">\n  <noscript>This website works better with JavaScript</noscript>\n  \n    <div class=\" navbar-container\">\n      <div id=\"menu-container\" class=\"dagshub-navbar \">\n        <div class=\"left-menu\">\n          <div class=\"fixed-content\">\n            <a href=\"https://dagshub.com/\" tabindex=\"0\">\n              \n              <img width=\"34\" height=\"30\" alt=\"DagsHub navbar logo\" aria-label=\"DagsHub Home\" class=\"navbar-logo\"\n                   src=\"/img/favicon.svg\">\n              \n            </a>\n            <form class=\"search-bar-container\" action=\"/explore/repos\">\n                <input class=\"search-bar\" name=\"q\" value=\"\" aria-label=\"Search public projects\"\n                       placeholder=\"Search public repositories...\" tabindex=\"0\" autocomplete=\"off\">\n            </form>\n          </div>\n          \n          \n            <div class=\"dropdown navbar-item\" tabindex=\"0\">\n              Resources &nbsp; <img class=\"flip\" src=\"/assets/chevron-icon.svg\">\n                <div class=\"submenu\">\n                  <a href=\"/docs\" tabindex=\"0\" onclick=\"trackAnalyticsEvent('Resources_Docs_Clicked')\">Docs</a>\n                  <a href=\"/blog\" tabindex=\"0\" onclick=\"trackAnalyticsEvent('Resources_Blog_Clicked')\">Blog</a>\n                  <a href=\"/datasets\" tabindex=\"0\" data-analytics-event=\"Resources_Datasets_Clicked\">Datasets</a>\n                  <a href=\"/glossary\" tabindex=\"0\" data-analytics-event=\"Resources_Glossary_Clicked\">Glossary</a>\n                  <a href=\"/blog/tag/case-study\" tabindex=\"0\" onclick=\"trackAnalyticsEvent('Resources_Case_Studies_Clicked')\">Case Studies</a>\n                  <a href=\"/blog/tag/tutorials\" tabindex=\"0\" onclick=\"trackAnalyticsEvent('Resources_Tutorials_Clicked')\">Tutorials &amp; Webinars</a>\n                </div>\n            </div>\n          \n          <a class=\"navbar-item\" tabindex=\"0\"\n             href=\"/explore/repos\" onclick=\"trackAnalyticsEvent('ExploreTab_Clicked')\">Explore</a>\n          \n            <a class=\"navbar-item\" tabindex=\"0\" href=\"/pricing\">Pricing</a>\n          \n          <div class=\"dropdown navbar-item\" tabindex=\"0\">\n            Product &nbsp; <img class=\"flip\" src=\"/assets/chevron-icon.svg\">\n            <div class=\"submenu\">\n              <a class=\"navbar-item\" tabindex=\"0\" href=\"/data-engine\">Data Engine</a>\n              <a class=\"navbar-item\" tabindex=\"0\" href=\"/use-cases/llm\">LLMs</a>\n              <a class=\"navbar-item\" tabindex=\"0\" href=\"/product\">Platform</a>\n              <a class=\"navbar-item\" tabindex=\"0\" href=\"/enterprise\">Enterprise</a>\n            </div>\n          </div>\n          \n        \n        </div>\n        \n          <input type=\"checkbox\" id=\"menu-toggle\" style=\"display: none;\" tabindex=\"0\">\n          <label id=\"menu-toggle-label\" for=\"menu-toggle\"><img src=\"/assets/menu-open.svg\"></label>\n          <div id=\"menu-close-label\" style=\"display: none;\"><img src=\"/assets/x.svg\"></div>\n          <div id=\"menu-open-label\" style=\"display: none;\"><img src=\"/assets/menu-open.svg\"></div>\n        \n        <div class=\"right-menu\">\n            <a aria-label=\"join our discord\"\n               class=\"navbar-icon dagshub-tooltip\"\n               tabindex=\"0\"\n               href=\"https://discord.com/invite/9gU36Y6\" onclick=\"trackAnalyticsEvent('DiscordIcon_Clicked')\">\n              <img src=\"/assets/social_icons/discord.svg\" aria-label=\"Connect to our Discord channel\">\n              <span>Connect to Dagshub Discord channel</span>\n            </a>\n            \n              \n                <div class=\"primary button\">\n                  <a id=\"sign-up-navbar\" data-analytics-event=\"Navbar_Register_Clicked\"\n                     href=\"/user/sign_up?redirect_to=%2frichardmukechiwa%2fLoan-Amount-Prediction%2fapi%2f2.0%2fmlflow%2fregistered-models%2fcreate\n\n\">\n                    Register\n                  </a>\n                </div>\n              \n              <a id=\"sign-in-navbar\" class=\"secondary button\"\n                 data-analytics-event=\"Navbar_Login_Clicked\"\n                 href=\"/user/login?redirect_to=%2frichardmukechiwa%2fLoan-Amount-Prediction%2fapi%2f2.0%2fmlflow%2fregistered-models%2fcreate\n\n\">\n                Login\n              </a>\n            \n        </div>\n      </div>\n    </div>\n  \n\n    \n\n<div class=\"ui container center\">\n  <p style=\"margin-top: 100px\"><img src=\"/img/404.png\" alt=\"404\"/></p>\n  <div class=\"ui divider\"></div>\n  <br>\n  \n  <p>\n    If you think this is an error, please report it on our\n    <strong>\n      <a href=\"https://discord.com/invite/9gU36Y6\">Discord support channel <i class=\"discord icon\"></i></a>\n    </strong>\n  </p>\n    Or, contact us at <a href=\"mailto:support@dagshub.com\">support@dagshub.com</a>.</p>\n  <br><br>\n  Provide this support ID: <strong>5bbcf695-6f4f-44d4-a311-13fd6d64f32c</strong>\n</div>\n\n\n</div>\n<footer>\n  <div class=\"ui footer\">\n      <div class=\"dagshub-footer\">\n          <a href=\"https://dagshub.com/\">\n            <img alt=\"footer DagsHub logo\" id=\"footer-logo\" class=\"ui centered image\" aria-label=\"Dagshub home\"\n                           src=\"/img/footerlogo.svg\">\n          </a>\n          <div id=\"footer-social\" class=\"\">\n            <a aria-label=\"DagsHub on Twitter\" class=\"icon-link\"\n               rel=\"nofollow\" target=\"_blank\"\n               href=\"https://twitter.com/TheRealDAGsHub\">\n              <i class=\"twitter large icon\"></i>\n            </a>\n            <a aria-label=\"DagsHub on YouTube\" class=\"icon-link\"\n               rel=\"nofollow\" target=\"_blank\"\n               href=\"https://youtube.com/c/dagshub\">\n              <i class=\"youtube large icon\"></i>\n            </a>\n            <a aria-label=\"DagsHub on LinkedIn\" class=\"icon-link\"\n               rel=\"nofollow\" target=\"_blank\"\n               href=\"https://www.linkedin.com/company/dagshub\">\n              <i class=\"linkedin large icon\"></i>\n            </a>\n            <a aria-label=\"join our Discord\" class=\"icon-link\"\n               rel=\"nofollow\" target=\"_blank\"\n               href=\"https://discord.com/invite/9gU36Y6\">\n              \n              <svg width=\"24\" height=\"19\" viewBox=\"0 0 24 19\" fill=\"none\" xmlns=\"http://www.w3.org/2000/svg\">\n                <path d=\"M20.2415 2.18566C18.7257 1.49015 17.1003 0.977731 15.4007 0.684245C15.3698 0.678581 15.3389 0.692736 15.3229 0.721047C15.1139 1.09286 14.8823 1.57791 14.7202 1.95916C12.8922 1.6855 11.0736 1.6855 9.28318 1.95916C9.12099 1.56944 8.88103 1.09286 8.67104 0.721047C8.6551 0.693681 8.62418 0.679525 8.59323 0.684245C6.89465 0.976793 5.26918 1.48921 3.75245 2.18566C3.73932 2.19133 3.72807 2.20077 3.7206 2.21303C0.637438 6.8192 -0.207169 11.3122 0.207167 15.7494C0.209041 15.7711 0.221228 15.7919 0.238101 15.8051C2.27228 17.2989 4.24273 18.2058 6.17659 18.807C6.20754 18.8164 6.24034 18.8051 6.26003 18.7796C6.71749 18.1549 7.12527 17.4962 7.4749 16.8035C7.49553 16.7629 7.47584 16.7148 7.43366 16.6988C6.78686 16.4534 6.17097 16.1542 5.57852 15.8145C5.53166 15.7872 5.52791 15.7201 5.57102 15.688C5.69569 15.5946 5.8204 15.4974 5.93944 15.3993C5.96098 15.3814 5.99099 15.3776 6.01631 15.3889C9.90842 17.1659 14.1221 17.1659 17.9683 15.3889C17.9936 15.3766 18.0236 15.3804 18.0461 15.3983C18.1652 15.4965 18.2898 15.5946 18.4154 15.688C18.4585 15.7201 18.4557 15.7872 18.4089 15.8145C17.8164 16.1608 17.2005 16.4534 16.5528 16.6978C16.5106 16.7139 16.4919 16.7629 16.5125 16.8035C16.8696 17.4952 17.2774 18.1539 17.7264 18.7787C17.7452 18.8051 17.7789 18.8164 17.8099 18.807C19.7531 18.2058 21.7235 17.2989 23.7577 15.8051C23.7755 15.7919 23.7868 15.7721 23.7887 15.7503C24.2845 10.6204 22.9581 6.16429 20.2724 2.21397C20.2659 2.20077 20.2546 2.19133 20.2415 2.18566ZM8.05612 13.0476C6.88433 13.0476 5.91881 11.9718 5.91881 10.6506C5.91881 9.32943 6.86561 8.25364 8.05612 8.25364C9.25598 8.25364 10.2122 9.33887 10.1934 10.6506C10.1934 11.9718 9.2466 13.0476 8.05612 13.0476ZM15.9585 13.0476C14.7867 13.0476 13.8212 11.9718 13.8212 10.6506C13.8212 9.32943 14.768 8.25364 15.9585 8.25364C17.1584 8.25364 18.1145 9.33887 18.0958 10.6506C18.0958 11.9718 17.1584 13.0476 15.9585 13.0476Z\"/>\n              </svg>\n            </a>\n          </div>\n        <div class=\"links\">\n          <a class=\"footer-item\" rel=\"noopener noreferrer\" href=\"/about\">Our Story</a>\n          <a class=\"footer-item\" rel=\"noopener noreferrer\" href=\"/careers\">Careers</a>\n              \n          <a id=\"merch-store\" class=\"footer-item\" rel=\"noopener noreferrer\"\n             href=\"https://teespring.com/stores/dagshub\">Merch</a>\n          <a class=\"footer-item\" id=\"contact-us-footer\" href=\"javascript:\">Contact Us</a>\n          <script>\n            (function() {\n              const $contactModal = $('#contact-modal');\n              const $contactForm = $contactModal.find('#contact-form');\n              $contactModal.modal('attach events', '#contact-us-footer', 'show');\n              $('#contact-us-footer').on('click', () => {\n                $contactForm.attr('action', 'contact_form');\n              });\n            })();\n          </script>\n              \n                <a class=\"footer-item\" rel=\"noopener noreferrer\" href=\"/enterprise\">Enterprise</a>\n                <a class=\"footer-item\" rel=\"noopener noreferrer\" href=\"/pricing\">Pricing</a>\n              \n        </div>\n          <h2>The home for data science collaboration</h2>\n          <div class=\"legal\">\n            <p>© Copyright Dagshub 2025</p>\n            <div class=\"\">\n              <a class=\"footer-item\" rel=\"noopener noreferrer\" href=\"/terms\">Terms of Service</a>\n              <a class=\"footer-item\" rel=\"noopener noreferrer\" href=\"/privacy\">Privacy Policy</a>\n            </div>\n          </div>\n\n        </div>\n\n      \n      \n      \n      \n      \n      \n      \n      \n      \n      \n      \n      \n\n\n  </div>\n</footer>\n\n\n</div>\n</body>\n\n\n\n\n\n\n\n\n\n\n\n<script src=\"/js/libs/emojify-1.1.0.min.js\"></script>\n<script src=\"/js/libs/clipboard-1.5.9.min.js\"></script>\n\n\n\n<script src=\"/js/gogs.js?v=f9e04d423df929e9e228f5ef20ec6c0414502228\"></script>\n<script src=\"/js/dagshub.js?v=f9e04d423df929e9e228f5ef20ec6c0414502228\"></script>\n\n\n\n\n\n\n\n\n\n\n\n\n\n\n\n\n\n\n</html>\n\n\n'"
     ]
    }
   ],
   "source": [
    "#define pipeline\n",
    "try:\n",
    "    config = ConfigurationManager()\n",
    "    model_evaluation_config = config.get_model_evaluation_config()\n",
    "    model_evaluation_config=ModelEvaluation(config=model_evaluation_config)\n",
    "    model_evaluation_config.log_into_mlflow()\n",
    "except Exception as e:\n",
    "    raise e    "
   ]
  },
  {
   "cell_type": "markdown",
   "metadata": {},
   "source": []
  },
  {
   "cell_type": "code",
   "execution_count": null,
   "metadata": {},
   "outputs": [],
   "source": []
  },
  {
   "cell_type": "code",
   "execution_count": null,
   "metadata": {},
   "outputs": [],
   "source": []
  },
  {
   "cell_type": "code",
   "execution_count": null,
   "metadata": {},
   "outputs": [],
   "source": []
  },
  {
   "cell_type": "code",
   "execution_count": null,
   "metadata": {},
   "outputs": [],
   "source": []
  }
 ],
 "metadata": {
  "kernelspec": {
   "display_name": "ln",
   "language": "python",
   "name": "python3"
  },
  "language_info": {
   "codemirror_mode": {
    "name": "ipython",
    "version": 3
   },
   "file_extension": ".py",
   "mimetype": "text/x-python",
   "name": "python",
   "nbconvert_exporter": "python",
   "pygments_lexer": "ipython3",
   "version": "3.10.16"
  }
 },
 "nbformat": 4,
 "nbformat_minor": 2
}
