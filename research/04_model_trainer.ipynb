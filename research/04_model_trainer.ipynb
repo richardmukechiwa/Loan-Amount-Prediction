{
 "cells": [
  {
   "cell_type": "code",
   "execution_count": 84,
   "metadata": {},
   "outputs": [],
   "source": [
    "import os"
   ]
  },
  {
   "cell_type": "code",
   "execution_count": 85,
   "metadata": {},
   "outputs": [
    {
     "data": {
      "text/plain": [
       "'C:\\\\Users\\\\RICH-FILES\\\\Desktop\\\\ml\\\\Loan-Amount-Prediction'"
      ]
     },
     "execution_count": 85,
     "metadata": {},
     "output_type": "execute_result"
    }
   ],
   "source": [
    "%pwd"
   ]
  },
  {
   "cell_type": "code",
   "execution_count": 86,
   "metadata": {},
   "outputs": [],
   "source": [
    "os.chdir(\"../\")"
   ]
  },
  {
   "cell_type": "code",
   "execution_count": 87,
   "metadata": {},
   "outputs": [
    {
     "data": {
      "text/plain": [
       "'C:\\\\Users\\\\RICH-FILES\\\\Desktop\\\\ml'"
      ]
     },
     "execution_count": 87,
     "metadata": {},
     "output_type": "execute_result"
    }
   ],
   "source": [
    "%pwd"
   ]
  },
  {
   "cell_type": "code",
   "execution_count": 88,
   "metadata": {},
   "outputs": [],
   "source": [
    "project_path = \"C:/Users/RICH-FILES/Desktop/ml/Loan-Amount-Prediction\"\n",
    "\n",
    "os.chdir(project_path)"
   ]
  },
  {
   "cell_type": "code",
   "execution_count": 89,
   "metadata": {},
   "outputs": [],
   "source": [
    "from dataclasses import dataclass\n",
    "from pathlib import Path\n",
    "\n",
    "\n",
    "@dataclass(frozen=True)\n",
    "class ModelTrainerConfig:\n",
    "    root_dir: Path\n",
    "    train_data_path: Path\n",
    "    test_data_path: Path\n",
    "    model_name: str\n",
    "    alpha: float\n",
    "    l1_ratio: float\n",
    "    target_column: float\n",
    "    "
   ]
  },
  {
   "cell_type": "code",
   "execution_count": 90,
   "metadata": {},
   "outputs": [],
   "source": [
    "from credit_risk.constants import *\n",
    "from credit_risk.utils.common import read_yaml, create_directories\n",
    "\n",
    "\n"
   ]
  },
  {
   "cell_type": "code",
   "execution_count": 91,
   "metadata": {},
   "outputs": [],
   "source": [
    "#creating a Configuration class\n",
    "class ConfigurationManager:\n",
    "    def __init__(\n",
    "        self,\n",
    "        config_filepath   = CONFIG_FILE_PATH,\n",
    "        params_filepath   = PARAMS_FILE_PATH,\n",
    "        schema_filepath   = SCHEMA_FILE_PATH):\n",
    "        \n",
    "        self.config = read_yaml(config_filepath)\n",
    "        self.params = read_yaml(params_filepath)                       \n",
    "        self.schema = read_yaml(schema_filepath)\n",
    "        \n",
    "        create_directories([self.config.artifacts_root])\n",
    "    \n",
    "    def get_model_trainer_config(self)->ModelTrainerConfig:\n",
    "        config = self.config.model_trainer\n",
    "        params = self.params.ElasticNet\n",
    "        schema = self.schema.TARGET_COLUMN\n",
    "        \n",
    "        create_directories([config.root_dir])\n",
    "        \n",
    "        model_trainer_config = ModelTrainerConfig(\n",
    "        root_dir = config.root_dir,\n",
    "        train_data_path=config.train_data_path,\n",
    "        test_data_path=config.test_data_path,\n",
    "        model_name = config.model_name,\n",
    "        alpha=params.alpha,\n",
    "        l1_ratio=params.l1_ratio,\n",
    "        target_column=schema.name\n",
    "        )\n",
    "        \n",
    "        return model_trainer_config\n",
    "    \n",
    "   \n",
    "        \n",
    "        \n",
    "    \n",
    "        "
   ]
  },
  {
   "cell_type": "code",
   "execution_count": 92,
   "metadata": {},
   "outputs": [],
   "source": [
    "\n",
    "import os\n",
    "from credit_risk import logger\n",
    "from sklearn.linear_model import ElasticNet\n",
    "import joblib\n",
    "import pandas as pd\n"
   ]
  },
  {
   "cell_type": "code",
   "execution_count": 93,
   "metadata": {},
   "outputs": [],
   "source": [
    "class ModelTrainer:\n",
    "    def __init__(self, config: ModelTrainerConfig):\n",
    "        self.config=config\n",
    "        \n",
    "    def train(self):\n",
    "        train_data=pd.read_csv(self.config.train_data_path)\n",
    "        test_data = pd.read_csv(self.config.test_data_path)\n",
    "        \n",
    "        test_data.dropna(inplace=True)\n",
    "        train_data.dropna(inplace=True)\n",
    "        \n",
    "        print(test_data.isnull().sum())\n",
    "        print(train_data.isnull().sum())\n",
    "        \n",
    "        \n",
    "        train_x = train_data.drop([self.config.target_column], axis=1)\n",
    "        test_x = test_data.drop(self.config.target_column, axis=1)\n",
    "        train_y=train_data[[self.config.target_column]]\n",
    "        test_y=test_data[[self.config.target_column]]\n",
    "        \n",
    "        elnet   = ElasticNet(alpha=self.config.alpha, l1_ratio=self.config.l1_ratio, random_state=42)\n",
    "        elnet.fit(train_x, train_y)\n",
    "       \n",
    "        joblib.dump(elnet,os.path.join(self.config.root_dir, self.config.model_name))"
   ]
  },
  {
   "cell_type": "code",
   "execution_count": 94,
   "metadata": {},
   "outputs": [
    {
     "name": "stdout",
     "output_type": "stream",
     "text": [
      "[2025-03-09 20:53:01,975: INFO: common: yaml file: config\\config.yaml loaded successfully]\n",
      "[2025-03-09 20:53:01,978: INFO: common: yaml file: params.yaml loaded successfully]\n",
      "[2025-03-09 20:53:01,981: INFO: common: yaml file: schema.yaml loaded successfully]\n",
      "[2025-03-09 20:53:01,982: INFO: common: created directory at: artifacts]\n",
      "[2025-03-09 20:53:01,984: INFO: common: created directory at: artifacts/model_trainer]\n",
      "Age                         0\n",
      "Income                      0\n",
      "Emp_length                  0\n",
      "Amount                      0\n",
      "Rate                        0\n",
      "Percent_income              0\n",
      "Home_MORTGAGE               0\n",
      "Home_OTHER                  0\n",
      "Home_OWN                    0\n",
      "Home_RENT                   0\n",
      "Intent_DEBTCONSOLIDATION    0\n",
      "Intent_EDUCATION            0\n",
      "Intent_HOMEIMPROVEMENT      0\n",
      "Intent_MEDICAL              0\n",
      "Intent_PERSONAL             0\n",
      "Intent_VENTURE              0\n",
      "dtype: int64\n",
      "Age                         0\n",
      "Income                      0\n",
      "Emp_length                  0\n",
      "Amount                      0\n",
      "Rate                        0\n",
      "Percent_income              0\n",
      "Home_MORTGAGE               0\n",
      "Home_OTHER                  0\n",
      "Home_OWN                    0\n",
      "Home_RENT                   0\n",
      "Intent_DEBTCONSOLIDATION    0\n",
      "Intent_EDUCATION            0\n",
      "Intent_HOMEIMPROVEMENT      0\n",
      "Intent_MEDICAL              0\n",
      "Intent_PERSONAL             0\n",
      "Intent_VENTURE              0\n",
      "dtype: int64\n"
     ]
    }
   ],
   "source": [
    "#define pipeline\n",
    "try:\n",
    "    config = ConfigurationManager()\n",
    "    model_trainer_config = config.get_model_trainer_config()\n",
    "    model_trainer_config=ModelTrainer(config=model_trainer_config)\n",
    "    model_trainer_config.train()\n",
    "except Exception as e:\n",
    "    raise e    "
   ]
  }
 ],
 "metadata": {
  "kernelspec": {
   "display_name": "ln",
   "language": "python",
   "name": "python3"
  },
  "language_info": {
   "codemirror_mode": {
    "name": "ipython",
    "version": 3
   },
   "file_extension": ".py",
   "mimetype": "text/x-python",
   "name": "python",
   "nbconvert_exporter": "python",
   "pygments_lexer": "ipython3",
   "version": "3.10.16"
  }
 },
 "nbformat": 4,
 "nbformat_minor": 2
}
