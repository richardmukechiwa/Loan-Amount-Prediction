{
 "cells": [
  {
   "cell_type": "code",
   "execution_count": 15,
   "metadata": {},
   "outputs": [],
   "source": [
    "import os"
   ]
  },
  {
   "cell_type": "code",
   "execution_count": 16,
   "metadata": {},
   "outputs": [
    {
     "data": {
      "text/plain": [
       "'C:\\\\Users\\\\RICH-FILES\\\\Desktop\\\\ml\\\\Loan-Amount-Prediction'"
      ]
     },
     "execution_count": 16,
     "metadata": {},
     "output_type": "execute_result"
    }
   ],
   "source": [
    "%pwd"
   ]
  },
  {
   "cell_type": "code",
   "execution_count": 17,
   "metadata": {},
   "outputs": [],
   "source": [
    "os.chdir(\"../\")"
   ]
  },
  {
   "cell_type": "code",
   "execution_count": 18,
   "metadata": {},
   "outputs": [
    {
     "data": {
      "text/plain": [
       "'C:\\\\Users\\\\RICH-FILES\\\\Desktop\\\\ml'"
      ]
     },
     "execution_count": 18,
     "metadata": {},
     "output_type": "execute_result"
    }
   ],
   "source": [
    "%pwd"
   ]
  },
  {
   "cell_type": "code",
   "execution_count": 19,
   "metadata": {},
   "outputs": [],
   "source": [
    "project_path = \"C:/Users/RICH-FILES/Desktop/ml/Loan-Amount-Prediction\"\n",
    "\n",
    "os.chdir(project_path)"
   ]
  },
  {
   "cell_type": "code",
   "execution_count": 20,
   "metadata": {},
   "outputs": [],
   "source": [
    "from dataclasses import dataclass\n",
    "from pathlib import Path\n",
    "\n",
    "\n",
    "@dataclass(frozen=True)\n",
    "class ModelTrainerConfig:\n",
    "    root_dir: Path\n",
    "    train_data_path: Path\n",
    "    test_data_path: Path\n",
    "    model_name: str\n",
    "    n_estimators: int\n",
    "    max_depth:  int\n",
    "    min_samples_split: int\n",
    "    min_samples_leaf: int\n",
    "    target_column: float\n",
    "    "
   ]
  },
  {
   "cell_type": "code",
   "execution_count": 21,
   "metadata": {},
   "outputs": [],
   "source": [
    "from credit_risk.constants import *\n",
    "from credit_risk.utils.common import read_yaml, create_directories\n",
    "\n",
    "\n"
   ]
  },
  {
   "cell_type": "code",
   "execution_count": 22,
   "metadata": {},
   "outputs": [],
   "source": [
    "#creating a Configuration class\n",
    "class ConfigurationManager:\n",
    "    def __init__(\n",
    "        self,\n",
    "        config_filepath   = CONFIG_FILE_PATH,\n",
    "        params_filepath   = PARAMS_FILE_PATH,\n",
    "        schema_filepath   = SCHEMA_FILE_PATH):\n",
    "        \n",
    "        self.config = read_yaml(config_filepath)\n",
    "        self.params = read_yaml(params_filepath)                       \n",
    "        self.schema = read_yaml(schema_filepath)\n",
    "        \n",
    "        create_directories([self.config.artifacts_root])\n",
    "    \n",
    "    def get_model_trainer_config(self)->ModelTrainerConfig:\n",
    "        config = self.config.model_trainer\n",
    "        params = self.params.RandomForestRegressor\n",
    "        schema = self.schema.TARGET_COLUMN\n",
    "        \n",
    "        create_directories([config.root_dir])\n",
    "        \n",
    "        model_trainer_config = ModelTrainerConfig(\n",
    "            root_dir = config.root_dir,\n",
    "            train_data_path=config.train_data_path,\n",
    "            test_data_path=config.test_data_path,\n",
    "            model_name = config.model_name,\n",
    "            n_estimators=params.n_estimators,\n",
    "            max_depth=params.max_depth,\n",
    "            min_samples_split=params.min_samples_split,\n",
    "            min_samples_leaf=params.min_samples_leaf,\n",
    "            target_column=schema.name\n",
    "        )\n",
    "        \n",
    "        return model_trainer_config\n",
    "    \n",
    "   \n",
    "        \n",
    "        \n",
    "    \n",
    "        "
   ]
  },
  {
   "cell_type": "code",
   "execution_count": null,
   "metadata": {},
   "outputs": [],
   "source": [
    "\n",
    "import os\n",
    "from credit_risk import logger\n",
    "from sklearn.ensemble import RandomForestRegressor\n",
    "import pandas as pd\n",
    "import numpy as np\n",
    "from sklearn.model_selection import GridSearchCV\n",
    "\n",
    "import joblib\n"
   ]
  },
  {
   "cell_type": "code",
   "execution_count": 24,
   "metadata": {},
   "outputs": [],
   "source": [
    "class ModelTrainer:\n",
    "    def __init__(self, config: ModelTrainerConfig):\n",
    "        self.config=config\n",
    "        \n",
    "    def train(self):\n",
    "        train_data=pd.read_csv(self.config.train_data_path)\n",
    "        test_data = pd.read_csv(self.config.test_data_path)\n",
    "        \n",
    "        test_data.dropna(inplace=True)\n",
    "        train_data.dropna(inplace=True)\n",
    "        \n",
    "        print(test_data.isnull().sum())\n",
    "        print(train_data.isnull().sum())\n",
    "        \n",
    "        \n",
    "        train_x = train_data.drop([self.config.target_column], axis=1)\n",
    "        test_x = test_data.drop(self.config.target_column, axis=1)\n",
    "        train_y=train_data[[self.config.target_column]]\n",
    "        test_y=test_data[[self.config.target_column]]\n",
    "        \n",
    "        train_y = np.array(train_y).reshape(-1)\n",
    "        \n",
    "        #check target column\n",
    "        print(train_y[:5])\n",
    "        \n",
    "        rfreg   = RandomForestRegressor(n_estimators=self.config.n_estimators, max_depth=self.config.max_depth, min_samples_leaf=self.config.min_samples_leaf, min_samples_split=self.config.min_samples_split ,random_state=42)\n",
    "        rfreg.fit(train_x, train_y)\n",
    "       \n",
    "        joblib.dump(rfreg,os.path.join(self.config.root_dir, self.config.model_name))\n",
    "        \n",
    "        #Evaluation\n",
    "        #'n_estimators': [100, 200, 300],\n",
    "        #'max_depth': [10, 20, 30],\n",
    "        #'min_samples_split': [2, 5, 10],\n",
    "        #'min_samples_leaf': [1, 2, 4]\n",
    "        #}\n",
    "       \n",
    "        #grid_search = GridSearchCV(rfreg, param_grid, cv=5, n_jobs=-1, verbose=2)\n",
    "        #grid_search.fit(train_x, train_y)\n",
    "\n",
    "        #print(\"Best Parameters:\", grid_search.best_params_)"
   ]
  },
  {
   "cell_type": "code",
   "execution_count": 25,
   "metadata": {},
   "outputs": [
    {
     "name": "stdout",
     "output_type": "stream",
     "text": [
      "[2025-03-20 20:08:59,280: INFO: common: yaml file: config\\config.yaml loaded successfully]\n",
      "[2025-03-20 20:08:59,283: INFO: common: yaml file: params.yaml loaded successfully]\n",
      "[2025-03-20 20:08:59,288: INFO: common: yaml file: schema.yaml loaded successfully]\n",
      "[2025-03-20 20:08:59,289: INFO: common: created directory at: artifacts]\n",
      "[2025-03-20 20:08:59,291: INFO: common: created directory at: artifacts/model_trainer]\n",
      "Age                         0\n",
      "Income                      0\n",
      "Emp_length                  0\n",
      "Amount                      0\n",
      "Rate                        0\n",
      "Percent_income              0\n",
      "Home_MORTGAGE               0\n",
      "Home_OTHER                  0\n",
      "Home_OWN                    0\n",
      "Home_RENT                   0\n",
      "Intent_DEBTCONSOLIDATION    0\n",
      "Intent_EDUCATION            0\n",
      "Intent_HOMEIMPROVEMENT      0\n",
      "Intent_MEDICAL              0\n",
      "Intent_PERSONAL             0\n",
      "Intent_VENTURE              0\n",
      "dtype: int64\n",
      "Age                         0\n",
      "Income                      0\n",
      "Emp_length                  0\n",
      "Amount                      0\n",
      "Rate                        0\n",
      "Percent_income              0\n",
      "Home_MORTGAGE               0\n",
      "Home_OTHER                  0\n",
      "Home_OWN                    0\n",
      "Home_RENT                   0\n",
      "Intent_DEBTCONSOLIDATION    0\n",
      "Intent_EDUCATION            0\n",
      "Intent_HOMEIMPROVEMENT      0\n",
      "Intent_MEDICAL              0\n",
      "Intent_PERSONAL             0\n",
      "Intent_VENTURE              0\n",
      "dtype: int64\n",
      "[0. 1. 1. 0. 1.]\n"
     ]
    }
   ],
   "source": [
    "#define pipeline\n",
    "try:\n",
    "    config = ConfigurationManager()\n",
    "    model_trainer_config = config.get_model_trainer_config()\n",
    "    model_trainer_config=ModelTrainer(config=model_trainer_config)\n",
    "    model_trainer_config.train()\n",
    "except Exception as e:\n",
    "    raise e    "
   ]
  }
 ],
 "metadata": {
  "kernelspec": {
   "display_name": "ln",
   "language": "python",
   "name": "python3"
  },
  "language_info": {
   "codemirror_mode": {
    "name": "ipython",
    "version": 3
   },
   "file_extension": ".py",
   "mimetype": "text/x-python",
   "name": "python",
   "nbconvert_exporter": "python",
   "pygments_lexer": "ipython3",
   "version": "3.10.16"
  }
 },
 "nbformat": 4,
 "nbformat_minor": 2
}
