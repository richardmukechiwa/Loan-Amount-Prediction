{
 "cells": [
  {
   "cell_type": "code",
   "execution_count": 56,
   "metadata": {},
   "outputs": [],
   "source": [
    "import os"
   ]
  },
  {
   "cell_type": "code",
   "execution_count": 57,
   "metadata": {},
   "outputs": [
    {
     "data": {
      "text/plain": [
       "'C:\\\\Users\\\\RICH-FILES\\\\Desktop\\\\ml\\\\Loan-Amount-Prediction'"
      ]
     },
     "execution_count": 57,
     "metadata": {},
     "output_type": "execute_result"
    }
   ],
   "source": [
    "%pwd"
   ]
  },
  {
   "cell_type": "code",
   "execution_count": 58,
   "metadata": {},
   "outputs": [],
   "source": [
    "os.chdir(\"../\")"
   ]
  },
  {
   "cell_type": "code",
   "execution_count": 59,
   "metadata": {},
   "outputs": [
    {
     "data": {
      "text/plain": [
       "'C:\\\\Users\\\\RICH-FILES\\\\Desktop\\\\ml'"
      ]
     },
     "execution_count": 59,
     "metadata": {},
     "output_type": "execute_result"
    }
   ],
   "source": [
    "%pwd"
   ]
  },
  {
   "cell_type": "code",
   "execution_count": 60,
   "metadata": {},
   "outputs": [],
   "source": [
    "project_path = \"C:/Users/RICH-FILES/Desktop/ml/Loan-Amount-Prediction\"\n",
    "\n",
    "os.chdir(project_path)"
   ]
  },
  {
   "cell_type": "code",
   "execution_count": 61,
   "metadata": {},
   "outputs": [],
   "source": [
    "# creating a data ingestion class\n",
    "from dataclasses import dataclass\n",
    "from pathlib import Path\n",
    "\n",
    "@dataclass(frozen=True)\n",
    "class DataIngestionConfig:\n",
    "    root_dir: Path \n",
    "    source_URL: str\n",
    "    local_data_file: Path \n",
    "    unzip_dir: Path "
   ]
  },
  {
   "cell_type": "code",
   "execution_count": 62,
   "metadata": {},
   "outputs": [],
   "source": [
    "#import from constants and utils\n",
    "from credit_risk.constants import *\n",
    "from credit_risk.utils.common import read_yaml, create_directories\n"
   ]
  },
  {
   "cell_type": "code",
   "execution_count": 63,
   "metadata": {},
   "outputs": [],
   "source": [
    "#creating a Configuration class\n",
    "class ConfigurationManager:\n",
    "    def __init__(\n",
    "        self,\n",
    "        config_filepath   = CONFIG_FILE_PATH,\n",
    "        params_filepath   = PARAMS_FILE_PATH,\n",
    "        schema_filepath   = SCHEMA_FILE_PATH):\n",
    "        \n",
    "        self.config = read_yaml(config_filepath)\n",
    "        self.params = read_yaml(params_filepath)                       \n",
    "        self.schema = read_yaml(schema_filepath)  \n",
    "        \n",
    "        create_directories([self.config.artifacts_root])  \n",
    "        \n",
    "    def get_data_ingestion_config(self)-> DataIngestionConfig:\n",
    "        config = self.config.data_ingestion\n",
    "        \n",
    "        create_directories([config.root_dir])\n",
    "        \n",
    "        data_ingestion_config = DataIngestionConfig(\n",
    "            root_dir     = config.root_dir,\n",
    "            source_URL   = config.source_URL,\n",
    "            local_data_file = config.local_data_file,\n",
    "            unzip_dir    = config.unzip_dir\n",
    "        )\n",
    "        return data_ingestion_config"
   ]
  },
  {
   "cell_type": "code",
   "execution_count": 64,
   "metadata": {},
   "outputs": [],
   "source": [
    "#updating the components\n",
    "import os\n",
    "import urllib.request as request \n",
    "import zipfile\n",
    "from credit_risk import logger\n",
    "from credit_risk.utils.common import get_size"
   ]
  },
  {
   "cell_type": "code",
   "execution_count": 65,
   "metadata": {},
   "outputs": [],
   "source": [
    "#creating data ingestion class\n",
    "class DataIngestion:\n",
    "    def __init__(self, config: DataIngestionConfig):\n",
    "        self.config = config\n",
    "        \n",
    "    def download_file(self):\n",
    "        if not os.path.exists(self.config.local_data_file): \n",
    "            filename, headers = request.urlretrieve(\n",
    "                url = self.config.source_URL, \n",
    "                filename = self.config.local_data_file\n",
    "                \n",
    "            )\n",
    "            logger.info(f\"{filename} download! with the following info: \\n{headers}\")\n",
    "            \n",
    "        else:\n",
    "            logger.info(f\"File already exists of size: {get_size(Path(self.config.local_data_file))}\")    \n",
    "    \n",
    "    def extract_zip_file(self):\n",
    "        \"\"\"ArithmeticError\n",
    "        zip_file_path:str\n",
    "        Extracts the zip file to the specified directory\n",
    "        Function returns None\n",
    "        \"\"\"\n",
    "        unzip_path = self.config.unzip_dir\n",
    "        os.makedirs(unzip_path, exist_ok=True)\n",
    "        with zipfile.ZipFile(self.config.local_data_file, 'r') as zip_ref:\n",
    "            zip_ref.extractall(unzip_path)          "
   ]
  },
  {
   "cell_type": "code",
   "execution_count": 66,
   "metadata": {},
   "outputs": [
    {
     "name": "stdout",
     "output_type": "stream",
     "text": [
      "[2025-03-04 15:53:49,848: INFO: common: yaml file: config\\config.yaml loaded successfully]\n",
      "[2025-03-04 15:53:49,852: INFO: common: yaml file: params.yaml loaded successfully]\n",
      "[2025-03-04 15:53:49,856: INFO: common: yaml file: schema.yaml loaded successfully]\n",
      "[2025-03-04 15:53:49,858: INFO: common: created directory at: artifacts]\n",
      "[2025-03-04 15:53:49,860: INFO: common: created directory at: artifacts/data_ingestion]\n",
      "[2025-03-04 15:53:52,036: INFO: 2466243107: artifacts/data_ingestion/credit_risk.zip download! with the following info: \n",
      "Connection: close\n",
      "Content-Length: 372481\n",
      "Cache-Control: max-age=300\n",
      "Content-Security-Policy: default-src 'none'; style-src 'unsafe-inline'; sandbox\n",
      "Content-Type: application/zip\n",
      "ETag: \"54a741a15377b7a90673028544a0e0b363107668d2f211acfc2e414e040e97f8\"\n",
      "Strict-Transport-Security: max-age=31536000\n",
      "X-Content-Type-Options: nosniff\n",
      "X-Frame-Options: deny\n",
      "X-XSS-Protection: 1; mode=block\n",
      "X-GitHub-Request-Id: E856:1DF8B:1806D:5F50B:67C6FC5F\n",
      "Accept-Ranges: bytes\n",
      "Date: Tue, 04 Mar 2025 13:53:46 GMT\n",
      "Via: 1.1 varnish\n",
      "X-Served-By: cache-jnb7021-JNB\n",
      "X-Cache: HIT\n",
      "X-Cache-Hits: 0\n",
      "X-Timer: S1741096426.122669,VS0,VE273\n",
      "Vary: Authorization,Accept-Encoding,Origin\n",
      "Access-Control-Allow-Origin: *\n",
      "Cross-Origin-Resource-Policy: cross-origin\n",
      "X-Fastly-Request-ID: 774a5c786c89612a2db073d34d0f6e7a2197009f\n",
      "Expires: Tue, 04 Mar 2025 13:58:46 GMT\n",
      "Source-Age: 0\n",
      "\n",
      "]\n"
     ]
    }
   ],
   "source": [
    "#creating the pipeline\n",
    "try:\n",
    "    config = ConfigurationManager()\n",
    "    data_ingestion_config = config.get_data_ingestion_config()\n",
    "    data_ingestion = DataIngestion(config  = data_ingestion_config)\n",
    "    data_ingestion.download_file()\n",
    "    data_ingestion.extract_zip_file()\n",
    "except Exception as e:\n",
    "    raise e"
   ]
  },
  {
   "cell_type": "markdown",
   "metadata": {},
   "source": [
    "The session ended at 51.47 mins"
   ]
  }
 ],
 "metadata": {
  "kernelspec": {
   "display_name": "ln",
   "language": "python",
   "name": "python3"
  },
  "language_info": {
   "codemirror_mode": {
    "name": "ipython",
    "version": 3
   },
   "file_extension": ".py",
   "mimetype": "text/x-python",
   "name": "python",
   "nbconvert_exporter": "python",
   "pygments_lexer": "ipython3",
   "version": "3.10.16"
  }
 },
 "nbformat": 4,
 "nbformat_minor": 2
}
